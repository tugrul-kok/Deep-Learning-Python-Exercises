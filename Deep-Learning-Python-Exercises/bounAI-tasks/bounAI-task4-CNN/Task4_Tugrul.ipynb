{
  "nbformat": 4,
  "nbformat_minor": 0,
  "metadata": {
    "colab": {
      "name": "Task4_Tugrul.ipynb",
      "provenance": [],
      "authorship_tag": "ABX9TyMlNoI4fyei2t72qJtFfQFB",
      "include_colab_link": true
    },
    "kernelspec": {
      "name": "python3",
      "display_name": "Python 3"
    },
    "language_info": {
      "name": "python"
    }
  },
  "cells": [
    {
      "cell_type": "markdown",
      "metadata": {
        "id": "view-in-github",
        "colab_type": "text"
      },
      "source": [
        "<a href=\"https://colab.research.google.com/github/tugrul-kok/Deep-Learning-Python-Exercises/blob/main/Deep-Learning-Python-Exercises/bounAI-tasks/bounAI-task4-CNN/Task4_Tugrul.ipynb\" target=\"_parent\"><img src=\"https://colab.research.google.com/assets/colab-badge.svg\" alt=\"Open In Colab\"/></a>"
      ]
    },
    {
      "cell_type": "code",
      "metadata": {
        "id": "VJh9Rx0EwFAv"
      },
      "source": [
        ""
      ],
      "execution_count": null,
      "outputs": []
    }
  ]
}