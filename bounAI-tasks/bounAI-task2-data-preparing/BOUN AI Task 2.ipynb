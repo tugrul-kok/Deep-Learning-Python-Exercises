{
 "cells": [
  {
   "cell_type": "markdown",
   "metadata": {},
   "source": [
    "# BOUN AI Task 2\n",
    "\n",
    "## Nilüfer Çetin\n",
    "\n",
    "This task encompasses a set of operations and manipulations on a dataset obtained from [Kaggle](https://www.kaggle.com/arashnic/hr-analytics-job-change-of-data-scientists). Normalization will be used for transforming the numerical attributes into a suitable range whereas one-hot encoding will be performed to transform the categorical variables to a form that can be more easily used for statistical learning. \n",
    "\n",
    "Necessary packages are imported,"
   ]
  },
  {
   "cell_type": "code",
   "execution_count": 45,
   "metadata": {},
   "outputs": [],
   "source": [
    "import pandas as pd\n",
    "import numpy as np\n",
    "from sklearn.preprocessing import LabelEncoder\n",
    "from sklearn.preprocessing import OneHotEncoder"
   ]
  },
  {
   "cell_type": "markdown",
   "metadata": {},
   "source": [
    "First the dataset is read and printed,"
   ]
  },
  {
   "cell_type": "code",
   "execution_count": 46,
   "metadata": {
    "scrolled": true
   },
   "outputs": [
    {
     "name": "stdout",
     "output_type": "stream",
     "text": [
      "       enrollee_id      city  city_development_index gender  \\\n",
      "0             8949  city_103                   0.920   Male   \n",
      "1            29725   city_40                   0.776   Male   \n",
      "2            11561   city_21                   0.624    NaN   \n",
      "3            33241  city_115                   0.789    NaN   \n",
      "4              666  city_162                   0.767   Male   \n",
      "...            ...       ...                     ...    ...   \n",
      "19153         7386  city_173                   0.878   Male   \n",
      "19154        31398  city_103                   0.920   Male   \n",
      "19155        24576  city_103                   0.920   Male   \n",
      "19156         5756   city_65                   0.802   Male   \n",
      "19157        23834   city_67                   0.855    NaN   \n",
      "\n",
      "           relevent_experience enrolled_university education_level  \\\n",
      "0      Has relevent experience       no_enrollment        Graduate   \n",
      "1       No relevent experience       no_enrollment        Graduate   \n",
      "2       No relevent experience    Full time course        Graduate   \n",
      "3       No relevent experience                 NaN        Graduate   \n",
      "4      Has relevent experience       no_enrollment         Masters   \n",
      "...                        ...                 ...             ...   \n",
      "19153   No relevent experience       no_enrollment        Graduate   \n",
      "19154  Has relevent experience       no_enrollment        Graduate   \n",
      "19155  Has relevent experience       no_enrollment        Graduate   \n",
      "19156  Has relevent experience       no_enrollment     High School   \n",
      "19157   No relevent experience       no_enrollment  Primary School   \n",
      "\n",
      "      major_discipline experience company_size    company_type last_new_job  \\\n",
      "0                 STEM        >20          NaN             NaN            1   \n",
      "1                 STEM         15        50-99         Pvt Ltd           >4   \n",
      "2                 STEM          5          NaN             NaN        never   \n",
      "3      Business Degree         <1          NaN         Pvt Ltd        never   \n",
      "4                 STEM        >20        50-99  Funded Startup            4   \n",
      "...                ...        ...          ...             ...          ...   \n",
      "19153       Humanities         14          NaN             NaN            1   \n",
      "19154             STEM         14          NaN             NaN            4   \n",
      "19155             STEM        >20        50-99         Pvt Ltd            4   \n",
      "19156              NaN         <1      500-999         Pvt Ltd            2   \n",
      "19157              NaN          2          NaN             NaN            1   \n",
      "\n",
      "       training_hours  target  \n",
      "0                  36     1.0  \n",
      "1                  47     0.0  \n",
      "2                  83     0.0  \n",
      "3                  52     1.0  \n",
      "4                   8     0.0  \n",
      "...               ...     ...  \n",
      "19153              42     1.0  \n",
      "19154              52     1.0  \n",
      "19155              44     0.0  \n",
      "19156              97     0.0  \n",
      "19157             127     0.0  \n",
      "\n",
      "[19158 rows x 14 columns]\n"
     ]
    }
   ],
   "source": [
    "data = pd.read_csv(\"C:/Users/ŞAHİN ÇETİN/Desktop/aug_train.csv\", engine='python')\n",
    "print(data)"
   ]
  },
  {
   "cell_type": "markdown",
   "metadata": {},
   "source": [
    "The rows containing NaN value (missing observation) are dropped from the set,"
   ]
  },
  {
   "cell_type": "code",
   "execution_count": 47,
   "metadata": {},
   "outputs": [],
   "source": [
    "data = data.dropna()"
   ]
  },
  {
   "cell_type": "code",
   "execution_count": 48,
   "metadata": {
    "scrolled": true
   },
   "outputs": [
    {
     "name": "stdout",
     "output_type": "stream",
     "text": [
      "       enrollee_id      city  city_development_index  gender  \\\n",
      "1            29725   city_40                   0.776    Male   \n",
      "4              666  city_162                   0.767    Male   \n",
      "7              402   city_46                   0.762    Male   \n",
      "8            27107  city_103                   0.920    Male   \n",
      "11           23853  city_103                   0.920    Male   \n",
      "...            ...       ...                     ...     ...   \n",
      "19147        21319   city_21                   0.624    Male   \n",
      "19149          251  city_103                   0.920    Male   \n",
      "19150        32313  city_160                   0.920  Female   \n",
      "19152        29754  city_103                   0.920  Female   \n",
      "19155        24576  city_103                   0.920    Male   \n",
      "\n",
      "           relevent_experience enrolled_university education_level  \\\n",
      "1       No relevent experience       no_enrollment        Graduate   \n",
      "4      Has relevent experience       no_enrollment         Masters   \n",
      "7      Has relevent experience       no_enrollment        Graduate   \n",
      "8      Has relevent experience       no_enrollment        Graduate   \n",
      "11     Has relevent experience       no_enrollment        Graduate   \n",
      "...                        ...                 ...             ...   \n",
      "19147   No relevent experience    Full time course        Graduate   \n",
      "19149  Has relevent experience       no_enrollment         Masters   \n",
      "19150  Has relevent experience       no_enrollment        Graduate   \n",
      "19152  Has relevent experience       no_enrollment        Graduate   \n",
      "19155  Has relevent experience       no_enrollment        Graduate   \n",
      "\n",
      "      major_discipline experience company_size    company_type last_new_job  \\\n",
      "1                 STEM         15        50-99         Pvt Ltd           >4   \n",
      "4                 STEM        >20        50-99  Funded Startup            4   \n",
      "7                 STEM         13          <10         Pvt Ltd           >4   \n",
      "8                 STEM          7        50-99         Pvt Ltd            1   \n",
      "11                STEM          5    5000-9999         Pvt Ltd            1   \n",
      "...                ...        ...          ...             ...          ...   \n",
      "19147             STEM          1      100-500         Pvt Ltd            1   \n",
      "19149             STEM          9        50-99         Pvt Ltd            1   \n",
      "19150             STEM         10      100-500   Public Sector            3   \n",
      "19152       Humanities          7        10/49  Funded Startup            1   \n",
      "19155             STEM        >20        50-99         Pvt Ltd            4   \n",
      "\n",
      "       training_hours  target  \n",
      "1                  47     0.0  \n",
      "4                   8     0.0  \n",
      "7                  18     1.0  \n",
      "8                  46     1.0  \n",
      "11                108     0.0  \n",
      "...               ...     ...  \n",
      "19147              52     1.0  \n",
      "19149              36     1.0  \n",
      "19150              23     0.0  \n",
      "19152              25     0.0  \n",
      "19155              44     0.0  \n",
      "\n",
      "[8955 rows x 14 columns]\n"
     ]
    }
   ],
   "source": [
    "print(data)"
   ]
  },
  {
   "cell_type": "markdown",
   "metadata": {},
   "source": [
    "# 1- Normalization for Numerical Data\n",
    "\n",
    "For machine learning and deep learning purposes, it is important for the numerical features to be in close ranges. The solutions to the objective functions of various learning techniques from these domains are optimized with an algorithm called **gradient descent**. This is an iterative algorithm and hence the CPU time might change with the parameter and domain selection of the objective function. For gradient descent to work more efficiently in a smaller time, the numerical features should be brought into proper ranges such as ${[-1,1]}$. Else, the objective value might oscillate back and forward, increasing the run time.\n",
    "\n",
    "There are several ways to normalize the numeric variables. The technique chosen on this study is to first de-mean the data by,\n",
    "\n",
    "${\\hat{x_i} = x_i - \\bar{x}}$ where,\n",
    "\n",
    "${\\bar{x} = \\frac{\\sum_{i=1}^{n} x_i}{n}}$\n",
    "\n",
    "Then normalizing the data by,\n",
    "\n",
    "${\\hat{x_i} = x_i / \\sigma^2}$ where,\n",
    "\n",
    "${\\sigma^2}$ is the **variance** of the de-meaned vector.\n",
    "\n",
    "In this dataset, the columns with numerical data are, **city_development_index** and **training_hours**. Nevertheless, as mentioned before normalization is done to transform the numerical data into a more suitable range. The **city_development_index** is already between ${0}$ and ${1}$, so it will not be normalized. Moreover, for easier representation, **experience** and **last_new_job** columns will also be converted into numeric form. Where for **experience**,\n",
    "\n",
    "${<1}$ will be ${0}$ and ${>20}$ will be ${21}$.\n",
    "\n",
    "For **last_new_job**,\n",
    "\n",
    "${Never}$ will be ${0}$ and ${>4}$ will be ${5}$."
   ]
  },
  {
   "cell_type": "code",
   "execution_count": 49,
   "metadata": {},
   "outputs": [],
   "source": [
    "data.loc[data['experience'] == '<1', 'experience'] = 0\n",
    "data.loc[data['experience'] == '>20', 'experience'] = 21\n",
    "data.loc[data['last_new_job'] == 'never', 'last_new_job'] = 0\n",
    "data.loc[data['last_new_job'] == '>4', 'last_new_job'] = 5"
   ]
  },
  {
   "cell_type": "markdown",
   "metadata": {},
   "source": [
    "Now these columns can also be casted into a numeric type,"
   ]
  },
  {
   "cell_type": "code",
   "execution_count": 50,
   "metadata": {},
   "outputs": [],
   "source": [
    "data['experience'] = pd.to_numeric(data['experience'])\n",
    "data['last_new_job'] = pd.to_numeric(data['last_new_job'])"
   ]
  },
  {
   "cell_type": "code",
   "execution_count": 51,
   "metadata": {},
   "outputs": [],
   "source": [
    "def normalizer(data, cols):\n",
    "    mean = data[cols].mean()\n",
    "    data[cols] -= mean\n",
    "    var = data[cols].var()\n",
    "    data[cols] /= var\n",
    "    return data, mean, var"
   ]
  },
  {
   "cell_type": "code",
   "execution_count": 52,
   "metadata": {},
   "outputs": [],
   "source": [
    "columns = np.array(['training_hours', 'experience', 'last_new_job'])\n",
    "stats = np.empty((3,2))\n",
    "for i in range(0, 3):\n",
    "    data, stats[i, 0], stats[i, 1] = normalizer(data, columns[i])"
   ]
  },
  {
   "cell_type": "code",
   "execution_count": 53,
   "metadata": {},
   "outputs": [
    {
     "data": {
      "text/plain": [
       "array([[6.50749302e+01, 3.62826566e+03],\n",
       "       [1.16356226e+01, 4.28474465e+01],\n",
       "       [2.34829704e+00, 2.78475112e+00]])"
      ]
     },
     "execution_count": 53,
     "metadata": {},
     "output_type": "execute_result"
    }
   ],
   "source": [
    "#print(data)\n",
    "stats\n",
    "#data['last_new_job'].mean()"
   ]
  },
  {
   "cell_type": "markdown",
   "metadata": {},
   "source": [
    "For future use, the normalized feature set is saved into a numpy matrix,"
   ]
  },
  {
   "cell_type": "code",
   "execution_count": 54,
   "metadata": {},
   "outputs": [],
   "source": [
    "final = (data[['city_development_index', 'training_hours', 'experience', 'last_new_job']]).values"
   ]
  },
  {
   "cell_type": "markdown",
   "metadata": {},
   "source": [
    "# 2- One-Hot Encoding for Categorical Data\n",
    "\n",
    "One Hot Encoding is especially important for neural network tasks. Normally, for linear regression purposes it is common to represent categorical data by **integer encoding**, in which each integer starting from 0 or 1 represents a unique category on the specific feature. Though, this might be efficient for storage and maybe readability, modern neural network tasks are highly empowered with matrix representations and multiplications, and imposes a corelation between the categories. Therefore, for computational purposes, and eliminating the undesired hierarchy **One-Hot Encoding** is more preferrable where the observations with respect to a categorical feature are kept as a **sparse matrix** of zeroes and ones, ${1}$ representing the category of the observation."
   ]
  },
  {
   "cell_type": "markdown",
   "metadata": {},
   "source": [
    "For this task, the features in strings are first mapped into integers to represent different categories. Then, each observation is mapped into a vector via binary encoding. The resulting observation set is a **numpy matrix** with normalized numerical variables and one hot encoded categorical features for the 8955 observations. This is a final matrix in which the labels are missing."
   ]
  },
  {
   "cell_type": "code",
   "execution_count": 55,
   "metadata": {},
   "outputs": [],
   "source": [
    "categoricals = np.array(['city', 'gender', 'relevent_experience', 'enrolled_university', 'education_level', 'major_discipline', 'company_size', 'company_type'])\n",
    "for i in categoricals:\n",
    "  values = np.array(data[i])\n",
    "  label_encoder = LabelEncoder()\n",
    "  integer_encoded = label_encoder.fit_transform(values)\n",
    "  onehot_encoder = OneHotEncoder(sparse=False)\n",
    "  integer_encoded = integer_encoded.reshape(len(integer_encoded), 1)\n",
    "  final = np.hstack((final, onehot_encoder.fit_transform(integer_encoded))) "
   ]
  },
  {
   "cell_type": "code",
   "execution_count": 56,
   "metadata": {},
   "outputs": [
    {
     "data": {
      "text/plain": [
       "(8955, 151)"
      ]
     },
     "execution_count": 56,
     "metadata": {},
     "output_type": "execute_result"
    }
   ],
   "source": [
    "final.shape"
   ]
  },
  {
   "cell_type": "markdown",
   "metadata": {},
   "source": [
    "The labels of various types of features will be kept in another array, which will be useful for the next section. It should be kept in mind that while the **scipy** is processing the encoding, different categories/levels of the same type of feature are sorted with respect to their alphabetical ordering. Therefore, while constructing the labels array, this sorting will be done to ensure there will not be any mistakes in readability and use."
   ]
  },
  {
   "cell_type": "code",
   "execution_count": 57,
   "metadata": {},
   "outputs": [],
   "source": [
    "columns = np.array(['city_development_index', 'training_hours', 'experience', 'last_new_job'])\n",
    "\n",
    "for i in categoricals:\n",
    "    uniques = np.array(sorted(data[i].unique()))\n",
    "    columns = np.concatenate((columns, uniques))"
   ]
  },
  {
   "cell_type": "markdown",
   "metadata": {},
   "source": [
    "# 3- Reverting the Data Back\n",
    "\n",
    "For further use when the target variable is a string instead of integer, the variables are needed to be turned back to the form of initial observation state."
   ]
  },
  {
   "cell_type": "markdown",
   "metadata": {},
   "source": [
    "## a- One Hot Encoded Data\n",
    "\n",
    "With this type of encoding, with the correctly sorted labels and matrix of ${0}$s and ${1}$s, the process is fairly easy. If only the columns of categorical data is selected from the final numpy matrix, there are **same** number of ${1}$s in each row, since each observation has the **same** number of properties. Then, if each observation of ${1}$ is brought into its correct type of feature and if all ${0}$s are deleted, then the initial form can be retained for categorical data. For this purpose, a final 2D array to be filled with categorical features is initialized,"
   ]
  },
  {
   "cell_type": "code",
   "execution_count": 58,
   "metadata": {},
   "outputs": [],
   "source": [
    "revert = np.empty((8955, 147), dtype=\"<U32\")"
   ]
  },
  {
   "cell_type": "markdown",
   "metadata": {},
   "source": [
    "Each row of the array is filled with correct and empty observations by the help of string-integer multiplication,"
   ]
  },
  {
   "cell_type": "code",
   "execution_count": 59,
   "metadata": {},
   "outputs": [],
   "source": [
    "for i in range(0, len(final)):\n",
    "    for j in range(4, 151):\n",
    "            revert[i, j-4] = int(final[i, j]) * str(columns[j])"
   ]
  },
  {
   "cell_type": "markdown",
   "metadata": {},
   "source": [
    "To delete the empty observations, meaning that the observation do not fall under this type of category, the array is brought from 2D to 1D. After the removal, a final numpy array of categorical features of each row is retained,"
   ]
  },
  {
   "cell_type": "code",
   "execution_count": 60,
   "metadata": {},
   "outputs": [],
   "source": [
    "revert = revert.ravel()\n",
    "revert = np.delete(revert, np.argwhere(revert == ''))\n",
    "revert = np.reshape(revert, (8955,8))"
   ]
  },
  {
   "cell_type": "code",
   "execution_count": 146,
   "metadata": {
    "scrolled": true
   },
   "outputs": [
    {
     "data": {
      "text/plain": [
       "array([['city_40', 'Male', 'No relevent experience', ..., 'STEM',\n",
       "        '50-99', 'Pvt Ltd'],\n",
       "       ['city_162', 'Male', 'Has relevent experience', ..., 'STEM',\n",
       "        '50-99', 'Funded Startup'],\n",
       "       ['city_46', 'Male', 'Has relevent experience', ..., 'STEM', '<10',\n",
       "        'Pvt Ltd'],\n",
       "       ...,\n",
       "       ['city_160', 'Female', 'Has relevent experience', ..., 'STEM',\n",
       "        '100-500', 'Public Sector'],\n",
       "       ['city_103', 'Female', 'Has relevent experience', ...,\n",
       "        'Humanities', '10/49', 'Funded Startup'],\n",
       "       ['city_103', 'Male', 'Has relevent experience', ..., 'STEM',\n",
       "        '50-99', 'Pvt Ltd']], dtype='<U32')"
      ]
     },
     "execution_count": 146,
     "metadata": {},
     "output_type": "execute_result"
    }
   ],
   "source": [
    "revert"
   ]
  },
  {
   "cell_type": "markdown",
   "metadata": {},
   "source": [
    "## b- Normalized Data\n",
    "\n",
    "To turn back this type of operations, the user should save the **mean** and **variance** of each feature set. By the inverse set of computations, the data is reverted back."
   ]
  },
  {
   "cell_type": "code",
   "execution_count": 61,
   "metadata": {},
   "outputs": [],
   "source": [
    "for i in range(1 ,4):\n",
    "    final[:,i]*=stats[i-1,1]\n",
    "    final[:,i]+=stats[i-1,0]"
   ]
  },
  {
   "cell_type": "code",
   "execution_count": 62,
   "metadata": {},
   "outputs": [
    {
     "data": {
      "text/plain": [
       "array([[ 0.776, 47.   , 15.   ,  5.   ],\n",
       "       [ 0.767,  8.   , 21.   ,  4.   ],\n",
       "       [ 0.762, 18.   , 13.   ,  5.   ],\n",
       "       ...,\n",
       "       [ 0.92 , 23.   , 10.   ,  3.   ],\n",
       "       [ 0.92 , 25.   ,  7.   ,  1.   ],\n",
       "       [ 0.92 , 44.   , 21.   ,  4.   ]])"
      ]
     },
     "execution_count": 62,
     "metadata": {},
     "output_type": "execute_result"
    }
   ],
   "source": [
    "final[:,0:4]"
   ]
  },
  {
   "cell_type": "markdown",
   "metadata": {},
   "source": [
    "Lastly, the two numpy arrays can be merged in a data frame by,"
   ]
  },
  {
   "cell_type": "code",
   "execution_count": 74,
   "metadata": {},
   "outputs": [],
   "source": [
    "back = pd.DataFrame(final[:,0:4], columns=columns[0:4])\n",
    "back2 = pd.DataFrame(revert, columns=categoricals)\n",
    "origin = pd.concat([back, back2],axis=1)"
   ]
  },
  {
   "cell_type": "code",
   "execution_count": 75,
   "metadata": {},
   "outputs": [
    {
     "data": {
      "text/html": [
       "<div>\n",
       "<style scoped>\n",
       "    .dataframe tbody tr th:only-of-type {\n",
       "        vertical-align: middle;\n",
       "    }\n",
       "\n",
       "    .dataframe tbody tr th {\n",
       "        vertical-align: top;\n",
       "    }\n",
       "\n",
       "    .dataframe thead th {\n",
       "        text-align: right;\n",
       "    }\n",
       "</style>\n",
       "<table border=\"1\" class=\"dataframe\">\n",
       "  <thead>\n",
       "    <tr style=\"text-align: right;\">\n",
       "      <th></th>\n",
       "      <th>city_development_index</th>\n",
       "      <th>training_hours</th>\n",
       "      <th>experience</th>\n",
       "      <th>last_new_job</th>\n",
       "      <th>city</th>\n",
       "      <th>gender</th>\n",
       "      <th>relevent_experience</th>\n",
       "      <th>enrolled_university</th>\n",
       "      <th>education_level</th>\n",
       "      <th>major_discipline</th>\n",
       "      <th>company_size</th>\n",
       "      <th>company_type</th>\n",
       "    </tr>\n",
       "  </thead>\n",
       "  <tbody>\n",
       "    <tr>\n",
       "      <th>0</th>\n",
       "      <td>0.776</td>\n",
       "      <td>47.0</td>\n",
       "      <td>15.0</td>\n",
       "      <td>5.0</td>\n",
       "      <td>city_40</td>\n",
       "      <td>Male</td>\n",
       "      <td>No relevent experience</td>\n",
       "      <td>no_enrollment</td>\n",
       "      <td>Graduate</td>\n",
       "      <td>STEM</td>\n",
       "      <td>50-99</td>\n",
       "      <td>Pvt Ltd</td>\n",
       "    </tr>\n",
       "    <tr>\n",
       "      <th>1</th>\n",
       "      <td>0.767</td>\n",
       "      <td>8.0</td>\n",
       "      <td>21.0</td>\n",
       "      <td>4.0</td>\n",
       "      <td>city_162</td>\n",
       "      <td>Male</td>\n",
       "      <td>Has relevent experience</td>\n",
       "      <td>no_enrollment</td>\n",
       "      <td>Masters</td>\n",
       "      <td>STEM</td>\n",
       "      <td>50-99</td>\n",
       "      <td>Funded Startup</td>\n",
       "    </tr>\n",
       "    <tr>\n",
       "      <th>2</th>\n",
       "      <td>0.762</td>\n",
       "      <td>18.0</td>\n",
       "      <td>13.0</td>\n",
       "      <td>5.0</td>\n",
       "      <td>city_46</td>\n",
       "      <td>Male</td>\n",
       "      <td>Has relevent experience</td>\n",
       "      <td>no_enrollment</td>\n",
       "      <td>Graduate</td>\n",
       "      <td>STEM</td>\n",
       "      <td>&lt;10</td>\n",
       "      <td>Pvt Ltd</td>\n",
       "    </tr>\n",
       "    <tr>\n",
       "      <th>3</th>\n",
       "      <td>0.920</td>\n",
       "      <td>46.0</td>\n",
       "      <td>7.0</td>\n",
       "      <td>1.0</td>\n",
       "      <td>city_103</td>\n",
       "      <td>Male</td>\n",
       "      <td>Has relevent experience</td>\n",
       "      <td>no_enrollment</td>\n",
       "      <td>Graduate</td>\n",
       "      <td>STEM</td>\n",
       "      <td>50-99</td>\n",
       "      <td>Pvt Ltd</td>\n",
       "    </tr>\n",
       "    <tr>\n",
       "      <th>4</th>\n",
       "      <td>0.920</td>\n",
       "      <td>108.0</td>\n",
       "      <td>5.0</td>\n",
       "      <td>1.0</td>\n",
       "      <td>city_103</td>\n",
       "      <td>Male</td>\n",
       "      <td>Has relevent experience</td>\n",
       "      <td>no_enrollment</td>\n",
       "      <td>Graduate</td>\n",
       "      <td>STEM</td>\n",
       "      <td>5000-9999</td>\n",
       "      <td>Pvt Ltd</td>\n",
       "    </tr>\n",
       "    <tr>\n",
       "      <th>...</th>\n",
       "      <td>...</td>\n",
       "      <td>...</td>\n",
       "      <td>...</td>\n",
       "      <td>...</td>\n",
       "      <td>...</td>\n",
       "      <td>...</td>\n",
       "      <td>...</td>\n",
       "      <td>...</td>\n",
       "      <td>...</td>\n",
       "      <td>...</td>\n",
       "      <td>...</td>\n",
       "      <td>...</td>\n",
       "    </tr>\n",
       "    <tr>\n",
       "      <th>8950</th>\n",
       "      <td>0.624</td>\n",
       "      <td>52.0</td>\n",
       "      <td>1.0</td>\n",
       "      <td>1.0</td>\n",
       "      <td>city_21</td>\n",
       "      <td>Male</td>\n",
       "      <td>No relevent experience</td>\n",
       "      <td>Full time course</td>\n",
       "      <td>Graduate</td>\n",
       "      <td>STEM</td>\n",
       "      <td>100-500</td>\n",
       "      <td>Pvt Ltd</td>\n",
       "    </tr>\n",
       "    <tr>\n",
       "      <th>8951</th>\n",
       "      <td>0.920</td>\n",
       "      <td>36.0</td>\n",
       "      <td>9.0</td>\n",
       "      <td>1.0</td>\n",
       "      <td>city_103</td>\n",
       "      <td>Male</td>\n",
       "      <td>Has relevent experience</td>\n",
       "      <td>no_enrollment</td>\n",
       "      <td>Masters</td>\n",
       "      <td>STEM</td>\n",
       "      <td>50-99</td>\n",
       "      <td>Pvt Ltd</td>\n",
       "    </tr>\n",
       "    <tr>\n",
       "      <th>8952</th>\n",
       "      <td>0.920</td>\n",
       "      <td>23.0</td>\n",
       "      <td>10.0</td>\n",
       "      <td>3.0</td>\n",
       "      <td>city_160</td>\n",
       "      <td>Female</td>\n",
       "      <td>Has relevent experience</td>\n",
       "      <td>no_enrollment</td>\n",
       "      <td>Graduate</td>\n",
       "      <td>STEM</td>\n",
       "      <td>100-500</td>\n",
       "      <td>Public Sector</td>\n",
       "    </tr>\n",
       "    <tr>\n",
       "      <th>8953</th>\n",
       "      <td>0.920</td>\n",
       "      <td>25.0</td>\n",
       "      <td>7.0</td>\n",
       "      <td>1.0</td>\n",
       "      <td>city_103</td>\n",
       "      <td>Female</td>\n",
       "      <td>Has relevent experience</td>\n",
       "      <td>no_enrollment</td>\n",
       "      <td>Graduate</td>\n",
       "      <td>Humanities</td>\n",
       "      <td>10/49</td>\n",
       "      <td>Funded Startup</td>\n",
       "    </tr>\n",
       "    <tr>\n",
       "      <th>8954</th>\n",
       "      <td>0.920</td>\n",
       "      <td>44.0</td>\n",
       "      <td>21.0</td>\n",
       "      <td>4.0</td>\n",
       "      <td>city_103</td>\n",
       "      <td>Male</td>\n",
       "      <td>Has relevent experience</td>\n",
       "      <td>no_enrollment</td>\n",
       "      <td>Graduate</td>\n",
       "      <td>STEM</td>\n",
       "      <td>50-99</td>\n",
       "      <td>Pvt Ltd</td>\n",
       "    </tr>\n",
       "  </tbody>\n",
       "</table>\n",
       "<p>8955 rows × 12 columns</p>\n",
       "</div>"
      ],
      "text/plain": [
       "      city_development_index  training_hours  experience  last_new_job  \\\n",
       "0                      0.776            47.0        15.0           5.0   \n",
       "1                      0.767             8.0        21.0           4.0   \n",
       "2                      0.762            18.0        13.0           5.0   \n",
       "3                      0.920            46.0         7.0           1.0   \n",
       "4                      0.920           108.0         5.0           1.0   \n",
       "...                      ...             ...         ...           ...   \n",
       "8950                   0.624            52.0         1.0           1.0   \n",
       "8951                   0.920            36.0         9.0           1.0   \n",
       "8952                   0.920            23.0        10.0           3.0   \n",
       "8953                   0.920            25.0         7.0           1.0   \n",
       "8954                   0.920            44.0        21.0           4.0   \n",
       "\n",
       "          city  gender      relevent_experience enrolled_university  \\\n",
       "0      city_40    Male   No relevent experience       no_enrollment   \n",
       "1     city_162    Male  Has relevent experience       no_enrollment   \n",
       "2      city_46    Male  Has relevent experience       no_enrollment   \n",
       "3     city_103    Male  Has relevent experience       no_enrollment   \n",
       "4     city_103    Male  Has relevent experience       no_enrollment   \n",
       "...        ...     ...                      ...                 ...   \n",
       "8950   city_21    Male   No relevent experience    Full time course   \n",
       "8951  city_103    Male  Has relevent experience       no_enrollment   \n",
       "8952  city_160  Female  Has relevent experience       no_enrollment   \n",
       "8953  city_103  Female  Has relevent experience       no_enrollment   \n",
       "8954  city_103    Male  Has relevent experience       no_enrollment   \n",
       "\n",
       "     education_level major_discipline company_size    company_type  \n",
       "0           Graduate             STEM        50-99         Pvt Ltd  \n",
       "1            Masters             STEM        50-99  Funded Startup  \n",
       "2           Graduate             STEM          <10         Pvt Ltd  \n",
       "3           Graduate             STEM        50-99         Pvt Ltd  \n",
       "4           Graduate             STEM    5000-9999         Pvt Ltd  \n",
       "...              ...              ...          ...             ...  \n",
       "8950        Graduate             STEM      100-500         Pvt Ltd  \n",
       "8951         Masters             STEM        50-99         Pvt Ltd  \n",
       "8952        Graduate             STEM      100-500   Public Sector  \n",
       "8953        Graduate       Humanities        10/49  Funded Startup  \n",
       "8954        Graduate             STEM        50-99         Pvt Ltd  \n",
       "\n",
       "[8955 rows x 12 columns]"
      ]
     },
     "execution_count": 75,
     "metadata": {},
     "output_type": "execute_result"
    }
   ],
   "source": [
    "origin"
   ]
  }
 ],
 "metadata": {
  "kernelspec": {
   "display_name": "Python 3",
   "language": "python",
   "name": "python3"
  },
  "language_info": {
   "codemirror_mode": {
    "name": "ipython",
    "version": 3
   },
   "file_extension": ".py",
   "mimetype": "text/x-python",
   "name": "python",
   "nbconvert_exporter": "python",
   "pygments_lexer": "ipython3",
   "version": "3.8.5"
  }
 },
 "nbformat": 4,
 "nbformat_minor": 4
}
