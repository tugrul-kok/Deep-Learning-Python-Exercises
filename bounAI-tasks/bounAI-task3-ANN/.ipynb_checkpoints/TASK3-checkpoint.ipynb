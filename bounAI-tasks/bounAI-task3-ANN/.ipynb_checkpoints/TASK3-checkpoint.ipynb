{
 "cells": [
  {
   "cell_type": "code",
   "execution_count": 1,
   "metadata": {
    "scrolled": true
   },
   "outputs": [],
   "source": [
    "import pandas as pd\n",
    "import numpy as np\n",
    "from sklearn.preprocessing import LabelEncoder\n",
    "from sklearn.preprocessing import OneHotEncoder\n",
    "from sklearn.model_selection import train_test_split\n",
    "from sklearn.preprocessing import StandardScaler\n",
    "import keras\n",
    "from keras.models import Sequential\n",
    "from keras.layers import Dense\n",
    "from sklearn.metrics import accuracy_score"
   ]
  },
  {
   "cell_type": "code",
   "execution_count": 2,
   "metadata": {
    "scrolled": true
   },
   "outputs": [],
   "source": [
    "data = pd.read_csv(\"aug_train.csv\").dropna()"
   ]
  },
  {
   "cell_type": "code",
   "execution_count": 3,
   "metadata": {
    "scrolled": true
   },
   "outputs": [],
   "source": [
    "data.loc[data['experience'] == '<1', 'experience'] = 0\n",
    "data.loc[data['experience'] == '>20', 'experience'] = 21\n",
    "data.loc[data['last_new_job'] == 'never', 'last_new_job'] = 0\n",
    "data.loc[data['last_new_job'] == '>4', 'last_new_job'] = 5"
   ]
  },
  {
   "cell_type": "code",
   "execution_count": 4,
   "metadata": {},
   "outputs": [],
   "source": [
    "data['experience'] = pd.to_numeric(data['experience'])\n",
    "data['last_new_job'] = pd.to_numeric(data['last_new_job'])"
   ]
  },
  {
   "cell_type": "code",
   "execution_count": 5,
   "metadata": {},
   "outputs": [
    {
     "name": "stdout",
     "output_type": "stream",
     "text": [
      "       enrollee_id      city  city_development_index  gender  \\\n",
      "1            29725   city_40                   0.776    Male   \n",
      "4              666  city_162                   0.767    Male   \n",
      "7              402   city_46                   0.762    Male   \n",
      "8            27107  city_103                   0.920    Male   \n",
      "11           23853  city_103                   0.920    Male   \n",
      "...            ...       ...                     ...     ...   \n",
      "19147        21319   city_21                   0.624    Male   \n",
      "19149          251  city_103                   0.920    Male   \n",
      "19150        32313  city_160                   0.920  Female   \n",
      "19152        29754  city_103                   0.920  Female   \n",
      "19155        24576  city_103                   0.920    Male   \n",
      "\n",
      "           relevent_experience enrolled_university education_level  \\\n",
      "1       No relevent experience       no_enrollment        Graduate   \n",
      "4      Has relevent experience       no_enrollment         Masters   \n",
      "7      Has relevent experience       no_enrollment        Graduate   \n",
      "8      Has relevent experience       no_enrollment        Graduate   \n",
      "11     Has relevent experience       no_enrollment        Graduate   \n",
      "...                        ...                 ...             ...   \n",
      "19147   No relevent experience    Full time course        Graduate   \n",
      "19149  Has relevent experience       no_enrollment         Masters   \n",
      "19150  Has relevent experience       no_enrollment        Graduate   \n",
      "19152  Has relevent experience       no_enrollment        Graduate   \n",
      "19155  Has relevent experience       no_enrollment        Graduate   \n",
      "\n",
      "      major_discipline  experience company_size    company_type  last_new_job  \\\n",
      "1                 STEM          15        50-99         Pvt Ltd             5   \n",
      "4                 STEM          21        50-99  Funded Startup             4   \n",
      "7                 STEM          13          <10         Pvt Ltd             5   \n",
      "8                 STEM           7        50-99         Pvt Ltd             1   \n",
      "11                STEM           5    5000-9999         Pvt Ltd             1   \n",
      "...                ...         ...          ...             ...           ...   \n",
      "19147             STEM           1      100-500         Pvt Ltd             1   \n",
      "19149             STEM           9        50-99         Pvt Ltd             1   \n",
      "19150             STEM          10      100-500   Public Sector             3   \n",
      "19152       Humanities           7        10/49  Funded Startup             1   \n",
      "19155             STEM          21        50-99         Pvt Ltd             4   \n",
      "\n",
      "       training_hours  target  \n",
      "1                  47     0.0  \n",
      "4                   8     0.0  \n",
      "7                  18     1.0  \n",
      "8                  46     1.0  \n",
      "11                108     0.0  \n",
      "...               ...     ...  \n",
      "19147              52     1.0  \n",
      "19149              36     1.0  \n",
      "19150              23     0.0  \n",
      "19152              25     0.0  \n",
      "19155              44     0.0  \n",
      "\n",
      "[8955 rows x 14 columns]\n"
     ]
    },
    {
     "data": {
      "text/plain": [
       "(8955, 14)"
      ]
     },
     "execution_count": 5,
     "metadata": {},
     "output_type": "execute_result"
    }
   ],
   "source": [
    "print(data)\n",
    "data.shape"
   ]
  },
  {
   "cell_type": "code",
   "execution_count": 6,
   "metadata": {},
   "outputs": [],
   "source": [
    "categorical = data[[\"city\",\"gender\",\"relevent_experience\",\"enrolled_university\",\"education_level\",\"major_discipline\",\"company_type\",\"company_size\"]]"
   ]
  },
  {
   "cell_type": "code",
   "execution_count": 7,
   "metadata": {},
   "outputs": [],
   "source": [
    "numerical = data[['city_development_index', 'training_hours', 'experience', 'last_new_job']].values"
   ]
  },
  {
   "cell_type": "code",
   "execution_count": 8,
   "metadata": {},
   "outputs": [
    {
     "name": "stdout",
     "output_type": "stream",
     "text": [
      "[[-0.59024811 -0.30008987  0.51400399  1.58911721  0.        ]\n",
      " [-0.66771983 -0.94758919  1.43067401  0.98983545  0.        ]\n",
      " [-0.71075968 -0.78156373  0.20844732  1.58911721  1.        ]\n",
      " ...\n",
      " [ 0.64929945 -0.69855099 -0.24988769  0.39055369  0.        ]\n",
      " [ 0.64929945 -0.6653459  -0.7082227  -0.80800982  0.        ]\n",
      " [ 0.64929945 -0.34989751  1.43067401  0.98983545  0.        ]]\n"
     ]
    }
   ],
   "source": [
    "sc = StandardScaler()\n",
    "numerical = sc.fit_transform(numerical)\n",
    "target = data['target']\n",
    "numerical = np.column_stack((numerical,target))\n",
    "print(numerical)"
   ]
  },
  {
   "cell_type": "code",
   "execution_count": 9,
   "metadata": {},
   "outputs": [],
   "source": [
    "ohe = OneHotEncoder()\n",
    "onehot = ohe.fit_transform(categorical).toarray()"
   ]
  },
  {
   "cell_type": "code",
   "execution_count": 10,
   "metadata": {},
   "outputs": [],
   "source": [
    "final = np.hstack((onehot,numerical))"
   ]
  },
  {
   "cell_type": "code",
   "execution_count": 11,
   "metadata": {},
   "outputs": [],
   "source": [
    "y = data.iloc[:,13:14].values\n",
    "X = final[:,:151]"
   ]
  },
  {
   "cell_type": "code",
   "execution_count": 12,
   "metadata": {},
   "outputs": [],
   "source": [
    "ohe = OneHotEncoder()\n",
    "y = ohe.fit_transform(y).toarray()"
   ]
  },
  {
   "cell_type": "code",
   "execution_count": 13,
   "metadata": {},
   "outputs": [],
   "source": [
    "X_train,X_test,y_train,y_test = train_test_split(X,y,test_size = 0.2)"
   ]
  },
  {
   "cell_type": "code",
   "execution_count": 14,
   "metadata": {},
   "outputs": [
    {
     "data": {
      "text/plain": [
       "(1791, 151)"
      ]
     },
     "execution_count": 14,
     "metadata": {},
     "output_type": "execute_result"
    }
   ],
   "source": [
    "np.shape(X_test)"
   ]
  },
  {
   "cell_type": "code",
   "execution_count": 15,
   "metadata": {},
   "outputs": [],
   "source": [
    "model = Sequential()\n",
    "model.add(Dense(16, input_dim=151,activation='relu'))\n",
    "model.add(Dense(12, activation='relu'))\n",
    "model.add(Dense(2, activation='softmax'))"
   ]
  },
  {
   "cell_type": "code",
   "execution_count": 16,
   "metadata": {},
   "outputs": [],
   "source": [
    "model.compile(loss='categorical_crossentropy', optimizer='adam', metrics=['accuracy'])"
   ]
  },
  {
   "cell_type": "code",
   "execution_count": null,
   "metadata": {},
   "outputs": [
    {
     "name": "stdout",
     "output_type": "stream",
     "text": [
      "Epoch 1/100\n",
      "112/112 [==============================] - 0s 2ms/step - loss: 0.4877 - accuracy: 0.8243\n",
      "Epoch 2/100\n",
      "112/112 [==============================] - 0s 2ms/step - loss: 0.3757 - accuracy: 0.8349\n",
      "Epoch 3/100\n",
      "112/112 [==============================] - 0s 2ms/step - loss: 0.3614 - accuracy: 0.8467\n",
      "Epoch 4/100\n",
      "112/112 [==============================] - 0s 2ms/step - loss: 0.3534 - accuracy: 0.8604\n",
      "Epoch 5/100\n",
      "112/112 [==============================] - 0s 2ms/step - loss: 0.3499 - accuracy: 0.8615\n",
      "Epoch 6/100\n",
      "112/112 [==============================] - 0s 2ms/step - loss: 0.3464 - accuracy: 0.8639\n",
      "Epoch 7/100\n",
      "112/112 [==============================] - 0s 2ms/step - loss: 0.3441 - accuracy: 0.8646\n",
      "Epoch 8/100\n",
      "112/112 [==============================] - 0s 2ms/step - loss: 0.3426 - accuracy: 0.8643\n",
      "Epoch 9/100\n",
      "112/112 [==============================] - 0s 2ms/step - loss: 0.3401 - accuracy: 0.8652\n",
      "Epoch 10/100\n",
      "112/112 [==============================] - 0s 2ms/step - loss: 0.3382 - accuracy: 0.8664\n",
      "Epoch 11/100\n",
      "112/112 [==============================] - 0s 2ms/step - loss: 0.3364 - accuracy: 0.8663\n",
      "Epoch 12/100\n",
      "112/112 [==============================] - 0s 2ms/step - loss: 0.3341 - accuracy: 0.8668\n",
      "Epoch 13/100\n",
      "112/112 [==============================] - 0s 3ms/step - loss: 0.3325 - accuracy: 0.8681\n",
      "Epoch 14/100\n",
      "112/112 [==============================] - 0s 2ms/step - loss: 0.3312 - accuracy: 0.8680\n",
      "Epoch 15/100\n",
      "112/112 [==============================] - 0s 2ms/step - loss: 0.3282 - accuracy: 0.8695\n",
      "Epoch 16/100\n",
      "112/112 [==============================] - 0s 2ms/step - loss: 0.3271 - accuracy: 0.8699\n",
      "Epoch 17/100\n",
      "112/112 [==============================] - 0s 2ms/step - loss: 0.3243 - accuracy: 0.8695\n",
      "Epoch 18/100\n",
      "112/112 [==============================] - 0s 2ms/step - loss: 0.3225 - accuracy: 0.8699\n",
      "Epoch 19/100\n",
      "112/112 [==============================] - 0s 2ms/step - loss: 0.3203 - accuracy: 0.8713\n",
      "Epoch 20/100\n",
      "112/112 [==============================] - 0s 2ms/step - loss: 0.3194 - accuracy: 0.8685\n",
      "Epoch 21/100\n",
      "112/112 [==============================] - 0s 2ms/step - loss: 0.3172 - accuracy: 0.8712\n",
      "Epoch 22/100\n",
      "112/112 [==============================] - 0s 2ms/step - loss: 0.3152 - accuracy: 0.8726\n",
      "Epoch 23/100\n",
      "112/112 [==============================] - 0s 2ms/step - loss: 0.3138 - accuracy: 0.8721\n",
      "Epoch 24/100\n",
      "112/112 [==============================] - 0s 2ms/step - loss: 0.3110 - accuracy: 0.8737\n",
      "Epoch 25/100\n",
      "112/112 [==============================] - 0s 2ms/step - loss: 0.3108 - accuracy: 0.8716\n",
      "Epoch 26/100\n",
      "112/112 [==============================] - 0s 2ms/step - loss: 0.3079 - accuracy: 0.8753\n",
      "Epoch 27/100\n",
      "112/112 [==============================] - 0s 2ms/step - loss: 0.3058 - accuracy: 0.8763\n",
      "Epoch 28/100\n",
      "112/112 [==============================] - 0s 2ms/step - loss: 0.3043 - accuracy: 0.8751\n",
      "Epoch 29/100\n",
      "112/112 [==============================] - 0s 2ms/step - loss: 0.3020 - accuracy: 0.8749\n",
      "Epoch 30/100\n",
      "112/112 [==============================] - 0s 2ms/step - loss: 0.3011 - accuracy: 0.8753\n",
      "Epoch 31/100\n",
      "112/112 [==============================] - 0s 2ms/step - loss: 0.2992 - accuracy: 0.8766\n",
      "Epoch 32/100\n",
      "112/112 [==============================] - 0s 2ms/step - loss: 0.2982 - accuracy: 0.8780\n",
      "Epoch 33/100\n",
      "112/112 [==============================] - 0s 2ms/step - loss: 0.2963 - accuracy: 0.8765\n",
      "Epoch 34/100\n",
      "112/112 [==============================] - 0s 2ms/step - loss: 0.2954 - accuracy: 0.8788\n",
      "Epoch 35/100\n",
      "112/112 [==============================] - 0s 2ms/step - loss: 0.2930 - accuracy: 0.8794\n",
      "Epoch 36/100\n",
      "112/112 [==============================] - 0s 2ms/step - loss: 0.2904 - accuracy: 0.8805\n",
      "Epoch 37/100\n",
      "112/112 [==============================] - 0s 2ms/step - loss: 0.2893 - accuracy: 0.8826\n",
      "Epoch 38/100\n",
      "112/112 [==============================] - 0s 2ms/step - loss: 0.2890 - accuracy: 0.8815\n",
      "Epoch 39/100\n",
      "112/112 [==============================] - 0s 2ms/step - loss: 0.2865 - accuracy: 0.8818\n",
      "Epoch 40/100\n",
      "112/112 [==============================] - 0s 2ms/step - loss: 0.2853 - accuracy: 0.8822\n",
      "Epoch 41/100\n",
      "112/112 [==============================] - 0s 2ms/step - loss: 0.2846 - accuracy: 0.8839\n",
      "Epoch 42/100\n",
      "112/112 [==============================] - 0s 2ms/step - loss: 0.2823 - accuracy: 0.8829\n",
      "Epoch 43/100\n",
      "112/112 [==============================] - 0s 2ms/step - loss: 0.2813 - accuracy: 0.8833\n",
      "Epoch 44/100\n",
      "112/112 [==============================] - 0s 2ms/step - loss: 0.2800 - accuracy: 0.8864\n",
      "Epoch 45/100\n",
      "112/112 [==============================] - 0s 2ms/step - loss: 0.2783 - accuracy: 0.8853\n",
      "Epoch 46/100\n",
      "112/112 [==============================] - 0s 2ms/step - loss: 0.2773 - accuracy: 0.8855\n",
      "Epoch 47/100\n",
      "112/112 [==============================] - 0s 2ms/step - loss: 0.2759 - accuracy: 0.8860\n",
      "Epoch 48/100\n",
      "112/112 [==============================] - 0s 2ms/step - loss: 0.2748 - accuracy: 0.8886\n",
      "Epoch 49/100\n",
      "112/112 [==============================] - 0s 2ms/step - loss: 0.2740 - accuracy: 0.8887\n",
      "Epoch 50/100\n",
      "112/112 [==============================] - 0s 2ms/step - loss: 0.2722 - accuracy: 0.8901\n",
      "Epoch 51/100\n",
      "112/112 [==============================] - 0s 2ms/step - loss: 0.2708 - accuracy: 0.8901\n",
      "Epoch 52/100\n",
      "112/112 [==============================] - 0s 2ms/step - loss: 0.2706 - accuracy: 0.8894\n",
      "Epoch 53/100\n",
      "112/112 [==============================] - 0s 2ms/step - loss: 0.2698 - accuracy: 0.8911\n",
      "Epoch 54/100\n",
      "112/112 [==============================] - 0s 2ms/step - loss: 0.2690 - accuracy: 0.8893\n",
      "Epoch 55/100\n",
      "112/112 [==============================] - 0s 2ms/step - loss: 0.2677 - accuracy: 0.8889\n",
      "Epoch 56/100\n",
      "112/112 [==============================] - 0s 2ms/step - loss: 0.2667 - accuracy: 0.8915\n",
      "Epoch 57/100\n",
      "112/112 [==============================] - 0s 2ms/step - loss: 0.2646 - accuracy: 0.8928\n",
      "Epoch 58/100\n",
      "112/112 [==============================] - 0s 2ms/step - loss: 0.2642 - accuracy: 0.8927\n",
      "Epoch 59/100\n",
      "112/112 [==============================] - 0s 2ms/step - loss: 0.2638 - accuracy: 0.8918\n",
      "Epoch 60/100\n",
      "112/112 [==============================] - 0s 2ms/step - loss: 0.2635 - accuracy: 0.8929\n",
      "Epoch 61/100\n",
      "112/112 [==============================] - 0s 2ms/step - loss: 0.2625 - accuracy: 0.8932\n",
      "Epoch 62/100\n",
      "112/112 [==============================] - 0s 2ms/step - loss: 0.2605 - accuracy: 0.8931\n",
      "Epoch 63/100\n",
      "112/112 [==============================] - 0s 2ms/step - loss: 0.2595 - accuracy: 0.8936\n",
      "Epoch 64/100\n",
      "112/112 [==============================] - 0s 2ms/step - loss: 0.2587 - accuracy: 0.8941\n",
      "Epoch 65/100\n",
      "112/112 [==============================] - 0s 2ms/step - loss: 0.2585 - accuracy: 0.8954\n",
      "Epoch 66/100\n",
      "112/112 [==============================] - 0s 2ms/step - loss: 0.2587 - accuracy: 0.8941\n",
      "Epoch 67/100\n",
      "112/112 [==============================] - 0s 2ms/step - loss: 0.2566 - accuracy: 0.8936\n",
      "Epoch 68/100\n",
      "112/112 [==============================] - 0s 2ms/step - loss: 0.2552 - accuracy: 0.8949\n",
      "Epoch 69/100\n",
      "112/112 [==============================] - 0s 2ms/step - loss: 0.2552 - accuracy: 0.8946\n",
      "Epoch 70/100\n",
      "112/112 [==============================] - 0s 2ms/step - loss: 0.2539 - accuracy: 0.8961\n",
      "Epoch 71/100\n",
      "112/112 [==============================] - 0s 2ms/step - loss: 0.2532 - accuracy: 0.8964\n",
      "Epoch 72/100\n",
      "112/112 [==============================] - 0s 2ms/step - loss: 0.2525 - accuracy: 0.8964\n",
      "Epoch 73/100\n",
      "112/112 [==============================] - 0s 2ms/step - loss: 0.2512 - accuracy: 0.8971\n",
      "Epoch 74/100\n",
      "  1/112 [..............................] - ETA: 0s - loss: 0.3637 - accuracy: 0.8281"
     ]
    }
   ],
   "source": [
    "history = model.fit(X_train, y_train, epochs=100, batch_size=64)"
   ]
  },
  {
   "cell_type": "code",
   "execution_count": null,
   "metadata": {},
   "outputs": [],
   "source": [
    "y_pred = model.predict(X_test)\n",
    "#Converting predictions to label\n",
    "pred = list()\n",
    "for i in range(len(y_pred)):\n",
    "    pred.append(np.argmax(y_pred[i]))\n",
    "#Converting one hot encoded test label to label\n",
    "test = list()\n",
    "for i in range(len(y_test)):\n",
    "    test.append(np.argmax(y_test[i]))"
   ]
  },
  {
   "cell_type": "code",
   "execution_count": null,
   "metadata": {},
   "outputs": [],
   "source": [
    "a = accuracy_score(pred,test)\n",
    "print('Accuracy is:', a*100)\n"
   ]
  },
  {
   "cell_type": "code",
   "execution_count": null,
   "metadata": {},
   "outputs": [],
   "source": []
  }
 ],
 "metadata": {
  "celltoolbar": "Raw Cell Format",
  "kernelspec": {
   "display_name": "Python 3",
   "language": "python",
   "name": "python3"
  },
  "language_info": {
   "codemirror_mode": {
    "name": "ipython",
    "version": 3
   },
   "file_extension": ".py",
   "mimetype": "text/x-python",
   "name": "python",
   "nbconvert_exporter": "python",
   "pygments_lexer": "ipython3",
   "version": "3.8.5"
  }
 },
 "nbformat": 4,
 "nbformat_minor": 4
}
