{
 "cells": [
  {
   "cell_type": "code",
   "execution_count": 14,
   "metadata": {},
   "outputs": [],
   "source": [
    "import numpy as np\n",
    "import pandas as pd\n",
    "\n",
    "# For preprocessing the data\n",
    "from sklearn.preprocessing import LabelEncoder, OneHotEncoder\n",
    "from sklearn.model_selection import train_test_split\n",
    "\n",
    "# To build neural network\n",
    "import keras\n",
    "from keras.models import Sequential\n",
    "from keras.layers import Dense\n",
    "from keras import layers\n",
    "from sklearn.metrics import accuracy_score\n",
    "\n",
    "# To visualize the training process\n",
    "import matplotlib.pyplot as plt"
   ]
  },
  {
   "cell_type": "code",
   "execution_count": 2,
   "metadata": {},
   "outputs": [],
   "source": [
    "data = pd.read_csv(\"aug_train.csv\")\n",
    "data = data.dropna()"
   ]
  },
  {
   "cell_type": "code",
   "execution_count": 3,
   "metadata": {},
   "outputs": [],
   "source": [
    "data.loc[data['experience'] == '<1', 'experience'] = 0\n",
    "data.loc[data['experience'] == '>20', 'experience'] = 21\n",
    "data.loc[data['last_new_job'] == 'never', 'last_new_job'] = 0\n",
    "data.loc[data['last_new_job'] == '>4', 'last_new_job'] = 5"
   ]
  },
  {
   "cell_type": "code",
   "execution_count": 4,
   "metadata": {},
   "outputs": [],
   "source": [
    "data['experience'] = pd.to_numeric(data['experience'])\n",
    "data['last_new_job'] = pd.to_numeric(data['last_new_job'])"
   ]
  },
  {
   "cell_type": "code",
   "execution_count": 5,
   "metadata": {},
   "outputs": [],
   "source": [
    "# This function normalizes\n",
    "def normalizer(data, cols):\n",
    "    mean = data[cols].mean()\n",
    "    data[cols] -= mean\n",
    "    var = data[cols].var()\n",
    "    data[cols] /= var\n",
    "    return data, mean, var"
   ]
  },
  {
   "cell_type": "code",
   "execution_count": 6,
   "metadata": {},
   "outputs": [],
   "source": [
    "# This part normalizes the numerical values and overwrites to data\n",
    "columns = np.array(['training_hours', 'experience', 'last_new_job'])\n",
    "stats = np.empty((3, 2))\n",
    "for i in range(0, 3):\n",
    "    data, stats[i, 0], stats[i, 1] = normalizer(data, columns[i])"
   ]
  },
  {
   "cell_type": "code",
   "execution_count": 7,
   "metadata": {},
   "outputs": [],
   "source": [
    "# Numericals are added.\n",
    "final = (data[['city_development_index', 'training_hours', 'experience', 'last_new_job']]).values\n"
   ]
  },
  {
   "cell_type": "code",
   "execution_count": 8,
   "metadata": {},
   "outputs": [],
   "source": [
    "categoricals = np.array(['city', 'gender', 'relevent_experience', 'enrolled_university', 'education_level', 'major_discipline', 'company_size', 'company_type'])\n"
   ]
  },
  {
   "cell_type": "code",
   "execution_count": 9,
   "metadata": {},
   "outputs": [],
   "source": [
    "# Categoricals are one hot encoded and added to final( Which stores processed values.)\n",
    "for i in categoricals:\n",
    "    values = np.array(data[i])\n",
    "    label_encoder = LabelEncoder() # String values turn into numbers.\n",
    "    integer_encoded = label_encoder.fit_transform(values)\n",
    "    onehot_encoder = OneHotEncoder(sparse=False)\n",
    "    integer_encoded = integer_encoded.reshape(len(integer_encoded), 1)\n",
    "    final = np.hstack((final, onehot_encoder.fit_transform(integer_encoded)))"
   ]
  },
  {
   "cell_type": "code",
   "execution_count": 10,
   "metadata": {},
   "outputs": [],
   "source": [
    "# Target is defined and one hot encoded.\n",
    "target = data.iloc[:,13:14].values\n",
    "target = onehot_encoder.fit_transform(target)"
   ]
  },
  {
   "cell_type": "code",
   "execution_count": 11,
   "metadata": {},
   "outputs": [],
   "source": [
    "# Data are splitted for train and test.\n",
    "values_train, values_test, target_train, target_test = train_test_split(final, target,test_size = 0.2)"
   ]
  },
  {
   "cell_type": "code",
   "execution_count": 15,
   "metadata": {
    "scrolled": true
   },
   "outputs": [],
   "source": [
    "# Model is created.\n",
    "model = Sequential()\n",
    "model.add(Dense(12, input_dim=151, activation= 'relu'))\n",
    "model.add(layers.Dropout(0.5))\n",
    "model.add(Dense(2, activation='softmax'))"
   ]
  },
  {
   "cell_type": "code",
   "execution_count": 16,
   "metadata": {},
   "outputs": [],
   "source": [
    "model.compile(loss='categorical_crossentropy', optimizer='adam', metrics=['accuracy'])"
   ]
  },
  {
   "cell_type": "code",
   "execution_count": 17,
   "metadata": {},
   "outputs": [
    {
     "name": "stdout",
     "output_type": "stream",
     "text": [
      "Epoch 1/100\n",
      "28/28 [==============================] - 0s 14ms/step - loss: 0.6780 - accuracy: 0.5551 - val_loss: 0.5451 - val_accuracy: 0.8286\n",
      "Epoch 2/100\n",
      "28/28 [==============================] - 0s 6ms/step - loss: 0.5296 - accuracy: 0.7873 - val_loss: 0.4499 - val_accuracy: 0.8414\n",
      "Epoch 3/100\n",
      "28/28 [==============================] - 0s 7ms/step - loss: 0.4886 - accuracy: 0.8244 - val_loss: 0.4153 - val_accuracy: 0.8414\n",
      "Epoch 4/100\n",
      "28/28 [==============================] - 0s 6ms/step - loss: 0.4628 - accuracy: 0.8293 - val_loss: 0.3977 - val_accuracy: 0.8414\n",
      "Epoch 5/100\n",
      "28/28 [==============================] - 0s 7ms/step - loss: 0.4476 - accuracy: 0.8325 - val_loss: 0.3862 - val_accuracy: 0.8420\n",
      "Epoch 6/100\n",
      "28/28 [==============================] - 0s 6ms/step - loss: 0.4407 - accuracy: 0.8317 - val_loss: 0.3777 - val_accuracy: 0.8409\n",
      "Epoch 7/100\n",
      "28/28 [==============================] - 0s 6ms/step - loss: 0.4266 - accuracy: 0.8353 - val_loss: 0.3712 - val_accuracy: 0.8425\n",
      "Epoch 8/100\n",
      "28/28 [==============================] - 0s 7ms/step - loss: 0.4248 - accuracy: 0.8353 - val_loss: 0.3659 - val_accuracy: 0.8437\n",
      "Epoch 9/100\n",
      "28/28 [==============================] - 0s 7ms/step - loss: 0.4150 - accuracy: 0.8347 - val_loss: 0.3600 - val_accuracy: 0.8465\n",
      "Epoch 10/100\n",
      "28/28 [==============================] - 0s 10ms/step - loss: 0.4101 - accuracy: 0.8416 - val_loss: 0.3556 - val_accuracy: 0.8487\n",
      "Epoch 11/100\n",
      "28/28 [==============================] - 0s 8ms/step - loss: 0.4048 - accuracy: 0.8416 - val_loss: 0.3523 - val_accuracy: 0.8565\n",
      "Epoch 12/100\n",
      "28/28 [==============================] - 0s 8ms/step - loss: 0.4081 - accuracy: 0.8385 - val_loss: 0.3517 - val_accuracy: 0.8610\n",
      "Epoch 13/100\n",
      "28/28 [==============================] - 0s 7ms/step - loss: 0.4029 - accuracy: 0.8495 - val_loss: 0.3482 - val_accuracy: 0.8654\n",
      "Epoch 14/100\n",
      "28/28 [==============================] - 0s 6ms/step - loss: 0.3949 - accuracy: 0.8476 - val_loss: 0.3457 - val_accuracy: 0.8649\n",
      "Epoch 15/100\n",
      "28/28 [==============================] - 0s 9ms/step - loss: 0.3984 - accuracy: 0.8438 - val_loss: 0.3448 - val_accuracy: 0.8649\n",
      "Epoch 16/100\n",
      "28/28 [==============================] - 0s 8ms/step - loss: 0.3940 - accuracy: 0.8488 - val_loss: 0.3446 - val_accuracy: 0.8682\n",
      "Epoch 17/100\n",
      "28/28 [==============================] - 0s 6ms/step - loss: 0.3951 - accuracy: 0.8423 - val_loss: 0.3431 - val_accuracy: 0.8682\n",
      "Epoch 18/100\n",
      "28/28 [==============================] - 0s 7ms/step - loss: 0.3920 - accuracy: 0.8462 - val_loss: 0.3425 - val_accuracy: 0.8705\n",
      "Epoch 19/100\n",
      "28/28 [==============================] - 0s 6ms/step - loss: 0.3871 - accuracy: 0.8473 - val_loss: 0.3416 - val_accuracy: 0.8693\n",
      "Epoch 20/100\n",
      "28/28 [==============================] - 0s 7ms/step - loss: 0.3859 - accuracy: 0.8479 - val_loss: 0.3408 - val_accuracy: 0.8699\n",
      "Epoch 21/100\n",
      "28/28 [==============================] - 0s 9ms/step - loss: 0.3861 - accuracy: 0.8456 - val_loss: 0.3414 - val_accuracy: 0.8688\n",
      "Epoch 22/100\n",
      "28/28 [==============================] - 0s 8ms/step - loss: 0.3801 - accuracy: 0.8487 - val_loss: 0.3398 - val_accuracy: 0.8682\n",
      "Epoch 23/100\n",
      "28/28 [==============================] - 0s 8ms/step - loss: 0.3837 - accuracy: 0.8480 - val_loss: 0.3398 - val_accuracy: 0.8705\n",
      "Epoch 24/100\n",
      "28/28 [==============================] - 0s 5ms/step - loss: 0.3810 - accuracy: 0.8494 - val_loss: 0.3397 - val_accuracy: 0.8716\n",
      "Epoch 25/100\n",
      "28/28 [==============================] - 0s 5ms/step - loss: 0.3789 - accuracy: 0.8446 - val_loss: 0.3392 - val_accuracy: 0.8693\n",
      "Epoch 26/100\n",
      "28/28 [==============================] - 0s 7ms/step - loss: 0.3799 - accuracy: 0.8508 - val_loss: 0.3407 - val_accuracy: 0.8710\n",
      "Epoch 27/100\n",
      "28/28 [==============================] - 0s 11ms/step - loss: 0.3765 - accuracy: 0.8484 - val_loss: 0.3390 - val_accuracy: 0.8693\n",
      "Epoch 28/100\n",
      "28/28 [==============================] - 0s 5ms/step - loss: 0.3760 - accuracy: 0.8487 - val_loss: 0.3398 - val_accuracy: 0.8716\n",
      "Epoch 29/100\n",
      "28/28 [==============================] - 0s 7ms/step - loss: 0.3790 - accuracy: 0.8495 - val_loss: 0.3389 - val_accuracy: 0.8699\n",
      "Epoch 30/100\n",
      "28/28 [==============================] - 0s 6ms/step - loss: 0.3772 - accuracy: 0.8511 - val_loss: 0.3392 - val_accuracy: 0.8688\n",
      "Epoch 31/100\n",
      "28/28 [==============================] - 0s 8ms/step - loss: 0.3782 - accuracy: 0.8476 - val_loss: 0.3405 - val_accuracy: 0.8677\n",
      "Epoch 32/100\n",
      "28/28 [==============================] - 0s 7ms/step - loss: 0.3716 - accuracy: 0.8477 - val_loss: 0.3390 - val_accuracy: 0.8666\n",
      "Epoch 33/100\n",
      "28/28 [==============================] - 0s 9ms/step - loss: 0.3744 - accuracy: 0.8480 - val_loss: 0.3393 - val_accuracy: 0.8677\n",
      "Epoch 34/100\n",
      "28/28 [==============================] - 0s 6ms/step - loss: 0.3759 - accuracy: 0.8533 - val_loss: 0.3395 - val_accuracy: 0.8705\n",
      "Epoch 35/100\n",
      "28/28 [==============================] - 0s 5ms/step - loss: 0.3728 - accuracy: 0.8463 - val_loss: 0.3387 - val_accuracy: 0.8699\n",
      "Epoch 36/100\n",
      "28/28 [==============================] - 0s 5ms/step - loss: 0.3734 - accuracy: 0.8458 - val_loss: 0.3394 - val_accuracy: 0.8699\n",
      "Epoch 37/100\n",
      "28/28 [==============================] - 0s 7ms/step - loss: 0.3741 - accuracy: 0.8509 - val_loss: 0.3396 - val_accuracy: 0.8693\n",
      "Epoch 38/100\n",
      "28/28 [==============================] - 0s 6ms/step - loss: 0.3733 - accuracy: 0.8474 - val_loss: 0.3395 - val_accuracy: 0.8677\n",
      "Epoch 39/100\n",
      "28/28 [==============================] - 0s 6ms/step - loss: 0.3694 - accuracy: 0.8515 - val_loss: 0.3391 - val_accuracy: 0.8693\n",
      "Epoch 40/100\n",
      "28/28 [==============================] - 0s 6ms/step - loss: 0.3702 - accuracy: 0.8520 - val_loss: 0.3398 - val_accuracy: 0.8688\n",
      "Epoch 41/100\n",
      "28/28 [==============================] - 0s 11ms/step - loss: 0.3746 - accuracy: 0.8477 - val_loss: 0.3393 - val_accuracy: 0.8688\n",
      "Epoch 42/100\n",
      "28/28 [==============================] - 0s 6ms/step - loss: 0.3679 - accuracy: 0.8472 - val_loss: 0.3394 - val_accuracy: 0.8688\n",
      "Epoch 43/100\n",
      "28/28 [==============================] - 0s 7ms/step - loss: 0.3664 - accuracy: 0.8501 - val_loss: 0.3389 - val_accuracy: 0.8682\n",
      "Epoch 44/100\n",
      "28/28 [==============================] - 0s 6ms/step - loss: 0.3714 - accuracy: 0.8491 - val_loss: 0.3400 - val_accuracy: 0.8688\n",
      "Epoch 45/100\n",
      "28/28 [==============================] - 0s 6ms/step - loss: 0.3693 - accuracy: 0.8501 - val_loss: 0.3399 - val_accuracy: 0.8710\n",
      "Epoch 46/100\n",
      "28/28 [==============================] - 0s 7ms/step - loss: 0.3642 - accuracy: 0.8520 - val_loss: 0.3392 - val_accuracy: 0.8705\n",
      "Epoch 47/100\n",
      "28/28 [==============================] - 0s 6ms/step - loss: 0.3671 - accuracy: 0.8511 - val_loss: 0.3397 - val_accuracy: 0.8693\n",
      "Epoch 48/100\n",
      "28/28 [==============================] - 0s 9ms/step - loss: 0.3668 - accuracy: 0.8499 - val_loss: 0.3405 - val_accuracy: 0.8677\n",
      "Epoch 49/100\n",
      "28/28 [==============================] - 0s 8ms/step - loss: 0.3659 - accuracy: 0.8484 - val_loss: 0.3401 - val_accuracy: 0.8716\n",
      "Epoch 50/100\n",
      "28/28 [==============================] - 0s 8ms/step - loss: 0.3653 - accuracy: 0.8530 - val_loss: 0.3403 - val_accuracy: 0.8671\n",
      "Epoch 51/100\n",
      "28/28 [==============================] - 0s 8ms/step - loss: 0.3683 - accuracy: 0.8516 - val_loss: 0.3398 - val_accuracy: 0.8682\n",
      "Epoch 52/100\n",
      "28/28 [==============================] - 0s 8ms/step - loss: 0.3679 - accuracy: 0.8469 - val_loss: 0.3412 - val_accuracy: 0.8677\n",
      "Epoch 53/100\n",
      "28/28 [==============================] - 0s 8ms/step - loss: 0.3661 - accuracy: 0.8501 - val_loss: 0.3406 - val_accuracy: 0.8682\n",
      "Epoch 54/100\n",
      "28/28 [==============================] - 0s 8ms/step - loss: 0.3711 - accuracy: 0.8508 - val_loss: 0.3414 - val_accuracy: 0.8660\n",
      "Epoch 55/100\n",
      "28/28 [==============================] - 0s 6ms/step - loss: 0.3669 - accuracy: 0.8481 - val_loss: 0.3410 - val_accuracy: 0.8671\n",
      "Epoch 56/100\n",
      "28/28 [==============================] - 0s 9ms/step - loss: 0.3686 - accuracy: 0.8492 - val_loss: 0.3418 - val_accuracy: 0.8671\n",
      "Epoch 57/100\n",
      "28/28 [==============================] - 0s 7ms/step - loss: 0.3656 - accuracy: 0.8502 - val_loss: 0.3412 - val_accuracy: 0.8638\n",
      "Epoch 58/100\n",
      "28/28 [==============================] - 0s 9ms/step - loss: 0.3640 - accuracy: 0.8526 - val_loss: 0.3408 - val_accuracy: 0.8688\n"
     ]
    },
    {
     "name": "stdout",
     "output_type": "stream",
     "text": [
      "Epoch 59/100\n",
      "28/28 [==============================] - 0s 8ms/step - loss: 0.3650 - accuracy: 0.8512 - val_loss: 0.3413 - val_accuracy: 0.8660\n",
      "Epoch 60/100\n",
      "28/28 [==============================] - 0s 7ms/step - loss: 0.3651 - accuracy: 0.8508 - val_loss: 0.3419 - val_accuracy: 0.8632\n",
      "Epoch 61/100\n",
      "28/28 [==============================] - 0s 7ms/step - loss: 0.3687 - accuracy: 0.8455 - val_loss: 0.3427 - val_accuracy: 0.8626\n",
      "Epoch 62/100\n",
      "28/28 [==============================] - 0s 8ms/step - loss: 0.3627 - accuracy: 0.8519 - val_loss: 0.3414 - val_accuracy: 0.8649\n",
      "Epoch 63/100\n",
      "28/28 [==============================] - 0s 6ms/step - loss: 0.3686 - accuracy: 0.8529 - val_loss: 0.3422 - val_accuracy: 0.8649\n",
      "Epoch 64/100\n",
      "28/28 [==============================] - 0s 5ms/step - loss: 0.3657 - accuracy: 0.8494 - val_loss: 0.3424 - val_accuracy: 0.8638\n",
      "Epoch 65/100\n",
      "28/28 [==============================] - 0s 6ms/step - loss: 0.3687 - accuracy: 0.8467 - val_loss: 0.3430 - val_accuracy: 0.8626\n",
      "Epoch 66/100\n",
      "28/28 [==============================] - 0s 7ms/step - loss: 0.3681 - accuracy: 0.8518 - val_loss: 0.3427 - val_accuracy: 0.8638\n",
      "Epoch 67/100\n",
      "28/28 [==============================] - 0s 6ms/step - loss: 0.3655 - accuracy: 0.8501 - val_loss: 0.3424 - val_accuracy: 0.8643\n",
      "Epoch 68/100\n",
      "28/28 [==============================] - 0s 7ms/step - loss: 0.3642 - accuracy: 0.8516 - val_loss: 0.3427 - val_accuracy: 0.8638\n",
      "Epoch 69/100\n",
      "28/28 [==============================] - 0s 8ms/step - loss: 0.3574 - accuracy: 0.8558 - val_loss: 0.3423 - val_accuracy: 0.8632\n",
      "Epoch 70/100\n",
      "28/28 [==============================] - 0s 11ms/step - loss: 0.3615 - accuracy: 0.8518 - val_loss: 0.3424 - val_accuracy: 0.8643\n",
      "Epoch 71/100\n",
      "28/28 [==============================] - 0s 7ms/step - loss: 0.3653 - accuracy: 0.8515 - val_loss: 0.3426 - val_accuracy: 0.8621\n",
      "Epoch 72/100\n",
      "28/28 [==============================] - 0s 6ms/step - loss: 0.3647 - accuracy: 0.8491 - val_loss: 0.3431 - val_accuracy: 0.8610\n",
      "Epoch 73/100\n",
      "28/28 [==============================] - 0s 7ms/step - loss: 0.3609 - accuracy: 0.8506 - val_loss: 0.3421 - val_accuracy: 0.8621\n",
      "Epoch 74/100\n",
      "28/28 [==============================] - 0s 6ms/step - loss: 0.3606 - accuracy: 0.8546 - val_loss: 0.3420 - val_accuracy: 0.8660\n",
      "Epoch 75/100\n",
      "28/28 [==============================] - 0s 5ms/step - loss: 0.3618 - accuracy: 0.8492 - val_loss: 0.3426 - val_accuracy: 0.8599\n",
      "Epoch 76/100\n",
      "28/28 [==============================] - 0s 4ms/step - loss: 0.3611 - accuracy: 0.8547 - val_loss: 0.3432 - val_accuracy: 0.8626\n",
      "Epoch 77/100\n",
      "28/28 [==============================] - 0s 6ms/step - loss: 0.3592 - accuracy: 0.8526 - val_loss: 0.3425 - val_accuracy: 0.8638\n",
      "Epoch 78/100\n",
      "28/28 [==============================] - 0s 6ms/step - loss: 0.3593 - accuracy: 0.8505 - val_loss: 0.3431 - val_accuracy: 0.8599\n",
      "Epoch 79/100\n",
      "28/28 [==============================] - 0s 7ms/step - loss: 0.3624 - accuracy: 0.8499 - val_loss: 0.3431 - val_accuracy: 0.8610\n",
      "Epoch 80/100\n",
      "28/28 [==============================] - 0s 12ms/step - loss: 0.3590 - accuracy: 0.8550 - val_loss: 0.3433 - val_accuracy: 0.8593\n",
      "Epoch 81/100\n",
      "28/28 [==============================] - 0s 10ms/step - loss: 0.3638 - accuracy: 0.8485 - val_loss: 0.3444 - val_accuracy: 0.8599\n",
      "Epoch 82/100\n",
      "28/28 [==============================] - 0s 8ms/step - loss: 0.3602 - accuracy: 0.8518 - val_loss: 0.3438 - val_accuracy: 0.8599\n",
      "Epoch 83/100\n",
      "28/28 [==============================] - 0s 8ms/step - loss: 0.3661 - accuracy: 0.8504 - val_loss: 0.3433 - val_accuracy: 0.8604\n",
      "Epoch 84/100\n",
      "28/28 [==============================] - 0s 8ms/step - loss: 0.3570 - accuracy: 0.8573 - val_loss: 0.3436 - val_accuracy: 0.8621\n",
      "Epoch 85/100\n",
      "28/28 [==============================] - 0s 9ms/step - loss: 0.3601 - accuracy: 0.8536 - val_loss: 0.3433 - val_accuracy: 0.8638\n",
      "Epoch 86/100\n",
      "28/28 [==============================] - 0s 5ms/step - loss: 0.3634 - accuracy: 0.8511 - val_loss: 0.3437 - val_accuracy: 0.8610\n",
      "Epoch 87/100\n",
      "28/28 [==============================] - 0s 7ms/step - loss: 0.3594 - accuracy: 0.8525 - val_loss: 0.3438 - val_accuracy: 0.8604\n",
      "Epoch 88/100\n",
      "28/28 [==============================] - 0s 5ms/step - loss: 0.3607 - accuracy: 0.8498 - val_loss: 0.3443 - val_accuracy: 0.8587\n",
      "Epoch 89/100\n",
      "28/28 [==============================] - 0s 8ms/step - loss: 0.3582 - accuracy: 0.8519 - val_loss: 0.3433 - val_accuracy: 0.8660\n",
      "Epoch 90/100\n",
      "28/28 [==============================] - 0s 8ms/step - loss: 0.3590 - accuracy: 0.8561 - val_loss: 0.3436 - val_accuracy: 0.8621\n",
      "Epoch 91/100\n",
      "28/28 [==============================] - 0s 8ms/step - loss: 0.3629 - accuracy: 0.8516 - val_loss: 0.3439 - val_accuracy: 0.8621\n",
      "Epoch 92/100\n",
      "28/28 [==============================] - 0s 7ms/step - loss: 0.3599 - accuracy: 0.8513 - val_loss: 0.3445 - val_accuracy: 0.8599\n",
      "Epoch 93/100\n",
      "28/28 [==============================] - 0s 8ms/step - loss: 0.3589 - accuracy: 0.8515 - val_loss: 0.3435 - val_accuracy: 0.8638\n",
      "Epoch 94/100\n",
      "28/28 [==============================] - 0s 6ms/step - loss: 0.3591 - accuracy: 0.8499 - val_loss: 0.3434 - val_accuracy: 0.8604\n",
      "Epoch 95/100\n",
      "28/28 [==============================] - 0s 7ms/step - loss: 0.3577 - accuracy: 0.8530 - val_loss: 0.3440 - val_accuracy: 0.8626\n",
      "Epoch 96/100\n",
      "28/28 [==============================] - 0s 7ms/step - loss: 0.3565 - accuracy: 0.8529 - val_loss: 0.3443 - val_accuracy: 0.8587\n",
      "Epoch 97/100\n",
      "28/28 [==============================] - 0s 8ms/step - loss: 0.3575 - accuracy: 0.8541 - val_loss: 0.3442 - val_accuracy: 0.8626\n",
      "Epoch 98/100\n",
      "28/28 [==============================] - 0s 7ms/step - loss: 0.3615 - accuracy: 0.8498 - val_loss: 0.3451 - val_accuracy: 0.8610\n",
      "Epoch 99/100\n",
      "28/28 [==============================] - 0s 6ms/step - loss: 0.3601 - accuracy: 0.8502 - val_loss: 0.3444 - val_accuracy: 0.8632\n",
      "Epoch 100/100\n",
      "28/28 [==============================] - 0s 7ms/step - loss: 0.3587 - accuracy: 0.8522 - val_loss: 0.3446 - val_accuracy: 0.8615\n"
     ]
    }
   ],
   "source": [
    "history = model.fit(values_train, target_train, validation_data = (values_test, target_test), epochs=100, batch_size=256)"
   ]
  },
  {
   "cell_type": "code",
   "execution_count": 18,
   "metadata": {},
   "outputs": [],
   "source": [
    "# This part tests our model\n",
    "target_prediction = model.predict(values_test)\n",
    "#Converting predictions to label\n",
    "prediction = list()\n",
    "for i in range(len(target_prediction)):\n",
    "    prediction.append(np.argmax(target_prediction[i]))\n",
    "#Converting one hot encoded test label to label\n",
    "test = list()\n",
    "for i in range(len(target_test)):\n",
    "    test.append(np.argmax(target_test[i]))"
   ]
  },
  {
   "cell_type": "code",
   "execution_count": 19,
   "metadata": {},
   "outputs": [
    {
     "name": "stdout",
     "output_type": "stream",
     "text": [
      "Accuracy is: 86.15298715801228\n"
     ]
    }
   ],
   "source": [
    "a = accuracy_score(prediction,test)\n",
    "print('Accuracy is:', a*100)\n"
   ]
  },
  {
   "cell_type": "code",
   "execution_count": 20,
   "metadata": {},
   "outputs": [
    {
     "data": {
      "image/png": "[encoded data removed]",
      "text/plain": [
       "<Figure size 432x288 with 1 Axes>"
      ]
     },
     "metadata": {
      "needs_background": "light"
     },
     "output_type": "display_data"
    }
   ],
   "source": [
    "plt.plot(history.history['accuracy'])\n",
    "plt.plot(history.history['val_accuracy'])\n",
    "plt.title('Model accuracy')\n",
    "plt.ylabel('Accuracy')\n",
    "plt.xlabel('Epoch')\n",
    "plt.legend(['Train', 'Test'], loc='upper left')\n",
    "plt.show()"
   ]
  },
  {
   "cell_type": "code",
   "execution_count": 21,
   "metadata": {
    "scrolled": true
   },
   "outputs": [
    {
     "data": {
      "image/png": "[encoded data removed]",
      "text/plain": [
       "<Figure size 432x288 with 1 Axes>"
      ]
     },
     "metadata": {
      "needs_background": "light"
     },
     "output_type": "display_data"
    }
   ],
   "source": [
    "plt.plot(history.history['loss']) \n",
    "plt.plot(history.history['val_loss']) \n",
    "plt.title('Model loss') \n",
    "plt.ylabel('Loss') \n",
    "plt.xlabel('Epoch') \n",
    "plt.legend(['Train', 'Test'], loc='upper left') \n",
    "plt.show()"
   ]
  },
  {
   "cell_type": "code",
   "execution_count": null,
   "metadata": {},
   "outputs": [],
   "source": []
  }
 ],
 "metadata": {
  "kernelspec": {
   "display_name": "Python 3",
   "language": "python",
   "name": "python3"
  },
  "language_info": {
   "codemirror_mode": {
    "name": "ipython",
    "version": 3
   },
   "file_extension": ".py",
   "mimetype": "text/x-python",
   "name": "python",
   "nbconvert_exporter": "python",
   "pygments_lexer": "ipython3",
   "version": "3.8.5"
  }
 },
 "nbformat": 4,
 "nbformat_minor": 4
}
