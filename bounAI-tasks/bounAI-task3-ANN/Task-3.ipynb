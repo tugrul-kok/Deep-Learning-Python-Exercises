{
 "cells": [
  {
   "cell_type": "code",
   "execution_count": 1,
   "metadata": {},
   "outputs": [],
   "source": [
    "import numpy as np\n",
    "import pandas as pd\n",
    "from sklearn.preprocessing import LabelEncoder, OneHotEncoder\n",
    "from sklearn.model_selection import train_test_split\n",
    "import keras\n",
    "from keras.models import Sequential\n",
    "from keras.layers import Dense\n",
    "from sklearn.metrics import accuracy_score\n",
    "# To visualize the training process\n",
    "import matplotlib.pyplot as plt"
   ]
  },
  {
   "cell_type": "code",
   "execution_count": 2,
   "metadata": {},
   "outputs": [],
   "source": [
    "data = pd.read_csv(\"aug_train.csv\")\n",
    "data = data.dropna()"
   ]
  },
  {
   "cell_type": "code",
   "execution_count": 3,
   "metadata": {},
   "outputs": [],
   "source": [
    "data.loc[data['experience'] == '<1', 'experience'] = 0\n",
    "data.loc[data['experience'] == '>20', 'experience'] = 21\n",
    "data.loc[data['last_new_job'] == 'never', 'last_new_job'] = 0\n",
    "data.loc[data['last_new_job'] == '>4', 'last_new_job'] = 5"
   ]
  },
  {
   "cell_type": "code",
   "execution_count": 4,
   "metadata": {},
   "outputs": [],
   "source": [
    "data['experience'] = pd.to_numeric(data['experience'])\n",
    "data['last_new_job'] = pd.to_numeric(data['last_new_job'])"
   ]
  },
  {
   "cell_type": "code",
   "execution_count": 5,
   "metadata": {},
   "outputs": [],
   "source": [
    "def normalizer(data, cols):\n",
    "    mean = data[cols].mean()\n",
    "    data[cols] -= mean\n",
    "    var = data[cols].var()\n",
    "    data[cols] /= var\n",
    "    return data, mean, var\n"
   ]
  },
  {
   "cell_type": "code",
   "execution_count": 6,
   "metadata": {},
   "outputs": [],
   "source": [
    "columns = np.array(['training_hours', 'experience', 'last_new_job'])\n",
    "stats = np.empty((3, 2))\n",
    "for i in range(0, 3):\n",
    "    data, stats[i, 0], stats[i, 1] = normalizer(data, columns[i])"
   ]
  },
  {
   "cell_type": "code",
   "execution_count": 7,
   "metadata": {},
   "outputs": [],
   "source": [
    "# Numericals are added.\n",
    "final = (data[['city_development_index', 'training_hours', 'experience', 'last_new_job']]).values\n"
   ]
  },
  {
   "cell_type": "code",
   "execution_count": 8,
   "metadata": {},
   "outputs": [],
   "source": [
    "categoricals = np.array(['city', 'gender', 'relevent_experience', 'enrolled_university', 'education_level', 'major_discipline', 'company_size', 'company_type'])\n"
   ]
  },
  {
   "cell_type": "code",
   "execution_count": 9,
   "metadata": {},
   "outputs": [],
   "source": [
    "for i in categoricals:\n",
    "    values = np.array(data[i])\n",
    "    label_encoder = LabelEncoder()\n",
    "    integer_encoded = label_encoder.fit_transform(values)\n",
    "    onehot_encoder = OneHotEncoder(sparse=False)\n",
    "    # Makes a column\n",
    "    integer_encoded = integer_encoded.reshape(len(integer_encoded), 1)\n",
    "    final = np.hstack((final, onehot_encoder.fit_transform(integer_encoded)))"
   ]
  },
  {
   "cell_type": "code",
   "execution_count": 10,
   "metadata": {},
   "outputs": [],
   "source": [
    "target = data.iloc[:,13:14].values\n",
    "target = onehot_encoder.fit_transform(target)\n",
    "values = final[:,:151]\n"
   ]
  },
  {
   "cell_type": "code",
   "execution_count": 11,
   "metadata": {},
   "outputs": [],
   "source": [
    "final_train, final_test, target_train, target_test = train_test_split(values, target,test_size = 0.2)"
   ]
  },
  {
   "cell_type": "code",
   "execution_count": 12,
   "metadata": {},
   "outputs": [],
   "source": [
    "model = Sequential()\n",
    "model.add(Dense(12, input_dim=151, activation= 'relu'))\n",
    "model.add(Dense(2, activation='softmax'))"
   ]
  },
  {
   "cell_type": "code",
   "execution_count": 13,
   "metadata": {},
   "outputs": [],
   "source": [
    "model.compile(loss='categorical_crossentropy', optimizer='adam', metrics=['accuracy'])"
   ]
  },
  {
   "cell_type": "code",
   "execution_count": 14,
   "metadata": {},
   "outputs": [
    {
     "name": "stdout",
     "output_type": "stream",
     "text": [
      "Epoch 1/100\n",
      "112/112 [==============================] - 1s 6ms/step - loss: 0.4458 - accuracy: 0.8349 - val_loss: 0.4123 - val_accuracy: 0.8314\n",
      "Epoch 2/100\n",
      "112/112 [==============================] - 0s 3ms/step - loss: 0.3861 - accuracy: 0.8354 - val_loss: 0.3821 - val_accuracy: 0.8319\n",
      "Epoch 3/100\n",
      "112/112 [==============================] - 0s 4ms/step - loss: 0.3644 - accuracy: 0.8474 - val_loss: 0.3681 - val_accuracy: 0.8515\n",
      "Epoch 4/100\n",
      "112/112 [==============================] - 0s 3ms/step - loss: 0.3551 - accuracy: 0.8555 - val_loss: 0.3643 - val_accuracy: 0.8582\n",
      "Epoch 5/100\n",
      "112/112 [==============================] - 0s 3ms/step - loss: 0.3508 - accuracy: 0.8572 - val_loss: 0.3636 - val_accuracy: 0.8593\n",
      "Epoch 6/100\n",
      "112/112 [==============================] - 0s 3ms/step - loss: 0.3479 - accuracy: 0.8586 - val_loss: 0.3649 - val_accuracy: 0.8582\n",
      "Epoch 7/100\n",
      "112/112 [==============================] - 0s 3ms/step - loss: 0.3468 - accuracy: 0.8582 - val_loss: 0.3656 - val_accuracy: 0.8559\n",
      "Epoch 8/100\n",
      "112/112 [==============================] - 0s 3ms/step - loss: 0.3457 - accuracy: 0.8590 - val_loss: 0.3664 - val_accuracy: 0.8554\n",
      "Epoch 9/100\n",
      "112/112 [==============================] - 0s 3ms/step - loss: 0.3440 - accuracy: 0.8592 - val_loss: 0.3661 - val_accuracy: 0.8554\n",
      "Epoch 10/100\n",
      "112/112 [==============================] - 0s 3ms/step - loss: 0.3436 - accuracy: 0.8599 - val_loss: 0.3677 - val_accuracy: 0.8559\n",
      "Epoch 11/100\n",
      "112/112 [==============================] - 0s 4ms/step - loss: 0.3426 - accuracy: 0.8608 - val_loss: 0.3669 - val_accuracy: 0.8565\n",
      "Epoch 12/100\n",
      "112/112 [==============================] - 0s 3ms/step - loss: 0.3419 - accuracy: 0.8603 - val_loss: 0.3676 - val_accuracy: 0.8582\n",
      "Epoch 13/100\n",
      "112/112 [==============================] - 0s 4ms/step - loss: 0.3418 - accuracy: 0.8624 - val_loss: 0.3688 - val_accuracy: 0.8576\n",
      "Epoch 14/100\n",
      "112/112 [==============================] - 0s 4ms/step - loss: 0.3406 - accuracy: 0.8631 - val_loss: 0.3690 - val_accuracy: 0.8587\n",
      "Epoch 15/100\n",
      "112/112 [==============================] - 0s 4ms/step - loss: 0.3402 - accuracy: 0.8643 - val_loss: 0.3732 - val_accuracy: 0.8532\n",
      "Epoch 16/100\n",
      "112/112 [==============================] - 1s 6ms/step - loss: 0.3400 - accuracy: 0.8642 - val_loss: 0.3707 - val_accuracy: 0.8559\n",
      "Epoch 17/100\n",
      "112/112 [==============================] - 0s 4ms/step - loss: 0.3392 - accuracy: 0.8636 - val_loss: 0.3721 - val_accuracy: 0.8559\n",
      "Epoch 18/100\n",
      "112/112 [==============================] - 0s 4ms/step - loss: 0.3388 - accuracy: 0.8646 - val_loss: 0.3728 - val_accuracy: 0.8537\n",
      "Epoch 19/100\n",
      "112/112 [==============================] - 0s 3ms/step - loss: 0.3376 - accuracy: 0.8643 - val_loss: 0.3737 - val_accuracy: 0.8565\n",
      "Epoch 20/100\n",
      "112/112 [==============================] - 0s 4ms/step - loss: 0.3376 - accuracy: 0.8646 - val_loss: 0.3739 - val_accuracy: 0.8565\n",
      "Epoch 21/100\n",
      "112/112 [==============================] - 0s 4ms/step - loss: 0.3378 - accuracy: 0.8636 - val_loss: 0.3747 - val_accuracy: 0.8565\n",
      "Epoch 22/100\n",
      "112/112 [==============================] - 1s 5ms/step - loss: 0.3371 - accuracy: 0.8647 - val_loss: 0.3749 - val_accuracy: 0.8559\n",
      "Epoch 23/100\n",
      "112/112 [==============================] - 0s 4ms/step - loss: 0.3362 - accuracy: 0.8647 - val_loss: 0.3749 - val_accuracy: 0.8565\n",
      "Epoch 24/100\n",
      "112/112 [==============================] - 0s 3ms/step - loss: 0.3357 - accuracy: 0.8661 - val_loss: 0.3761 - val_accuracy: 0.8576\n",
      "Epoch 25/100\n",
      "112/112 [==============================] - 1s 5ms/step - loss: 0.3351 - accuracy: 0.8661 - val_loss: 0.3766 - val_accuracy: 0.8582\n",
      "Epoch 26/100\n",
      "112/112 [==============================] - 0s 4ms/step - loss: 0.3350 - accuracy: 0.8666 - val_loss: 0.3777 - val_accuracy: 0.8565\n",
      "Epoch 27/100\n",
      "112/112 [==============================] - 0s 4ms/step - loss: 0.3343 - accuracy: 0.8663 - val_loss: 0.3772 - val_accuracy: 0.8571\n",
      "Epoch 28/100\n",
      "112/112 [==============================] - 0s 4ms/step - loss: 0.3339 - accuracy: 0.8661 - val_loss: 0.3796 - val_accuracy: 0.8565\n",
      "Epoch 29/100\n",
      "112/112 [==============================] - 1s 4ms/step - loss: 0.3340 - accuracy: 0.8663 - val_loss: 0.3784 - val_accuracy: 0.8593\n",
      "Epoch 30/100\n",
      "112/112 [==============================] - 0s 4ms/step - loss: 0.3334 - accuracy: 0.8664 - val_loss: 0.3789 - val_accuracy: 0.8559\n",
      "Epoch 31/100\n",
      "112/112 [==============================] - 0s 4ms/step - loss: 0.3329 - accuracy: 0.8674 - val_loss: 0.3807 - val_accuracy: 0.8548\n",
      "Epoch 32/100\n",
      "112/112 [==============================] - 0s 4ms/step - loss: 0.3324 - accuracy: 0.8670 - val_loss: 0.3815 - val_accuracy: 0.8526\n",
      "Epoch 33/100\n",
      "112/112 [==============================] - 1s 6ms/step - loss: 0.3321 - accuracy: 0.8674 - val_loss: 0.3808 - val_accuracy: 0.8559\n",
      "Epoch 34/100\n",
      "112/112 [==============================] - 1s 5ms/step - loss: 0.3315 - accuracy: 0.8673 - val_loss: 0.3812 - val_accuracy: 0.8593\n",
      "Epoch 35/100\n",
      "112/112 [==============================] - 1s 5ms/step - loss: 0.3313 - accuracy: 0.8682 - val_loss: 0.3821 - val_accuracy: 0.8559\n",
      "Epoch 36/100\n",
      "112/112 [==============================] - 1s 5ms/step - loss: 0.3306 - accuracy: 0.8666 - val_loss: 0.3821 - val_accuracy: 0.8565\n",
      "Epoch 37/100\n",
      "112/112 [==============================] - 0s 4ms/step - loss: 0.3309 - accuracy: 0.8673 - val_loss: 0.3825 - val_accuracy: 0.8571\n",
      "Epoch 38/100\n",
      "112/112 [==============================] - 0s 4ms/step - loss: 0.3303 - accuracy: 0.8689 - val_loss: 0.3834 - val_accuracy: 0.8571\n",
      "Epoch 39/100\n",
      "112/112 [==============================] - 0s 4ms/step - loss: 0.3297 - accuracy: 0.8688 - val_loss: 0.3839 - val_accuracy: 0.8548\n",
      "Epoch 40/100\n",
      "112/112 [==============================] - 1s 5ms/step - loss: 0.3290 - accuracy: 0.8710 - val_loss: 0.3844 - val_accuracy: 0.8587\n",
      "Epoch 41/100\n",
      "112/112 [==============================] - 0s 4ms/step - loss: 0.3290 - accuracy: 0.8696 - val_loss: 0.3853 - val_accuracy: 0.8565\n",
      "Epoch 42/100\n",
      "112/112 [==============================] - 1s 5ms/step - loss: 0.3289 - accuracy: 0.8684 - val_loss: 0.3879 - val_accuracy: 0.8532\n",
      "Epoch 43/100\n",
      "112/112 [==============================] - ETA: 0s - loss: 0.3277 - accuracy: 0.86 - 1s 5ms/step - loss: 0.3279 - accuracy: 0.8685 - val_loss: 0.3869 - val_accuracy: 0.8593\n",
      "Epoch 44/100\n",
      "112/112 [==============================] - 0s 4ms/step - loss: 0.3280 - accuracy: 0.8707 - val_loss: 0.3875 - val_accuracy: 0.8554\n",
      "Epoch 45/100\n",
      "112/112 [==============================] - 1s 6ms/step - loss: 0.3265 - accuracy: 0.8693 - val_loss: 0.3879 - val_accuracy: 0.8515\n",
      "Epoch 46/100\n",
      "112/112 [==============================] - 0s 4ms/step - loss: 0.3264 - accuracy: 0.8696 - val_loss: 0.3883 - val_accuracy: 0.8559\n",
      "Epoch 47/100\n",
      "112/112 [==============================] - 1s 5ms/step - loss: 0.3259 - accuracy: 0.8689 - val_loss: 0.3891 - val_accuracy: 0.8582\n",
      "Epoch 48/100\n",
      "112/112 [==============================] - 0s 4ms/step - loss: 0.3259 - accuracy: 0.8695 - val_loss: 0.3908 - val_accuracy: 0.8520\n",
      "Epoch 49/100\n",
      "112/112 [==============================] - 0s 4ms/step - loss: 0.3252 - accuracy: 0.8712 - val_loss: 0.3904 - val_accuracy: 0.8537\n",
      "Epoch 50/100\n",
      "112/112 [==============================] - 0s 4ms/step - loss: 0.3252 - accuracy: 0.8702 - val_loss: 0.3900 - val_accuracy: 0.8532\n",
      "Epoch 51/100\n",
      "112/112 [==============================] - 0s 4ms/step - loss: 0.3249 - accuracy: 0.8699 - val_loss: 0.3920 - val_accuracy: 0.8520\n",
      "Epoch 52/100\n",
      "112/112 [==============================] - 1s 5ms/step - loss: 0.3240 - accuracy: 0.8709 - val_loss: 0.3916 - val_accuracy: 0.8576\n",
      "Epoch 53/100\n",
      "112/112 [==============================] - 0s 4ms/step - loss: 0.3238 - accuracy: 0.8705 - val_loss: 0.3927 - val_accuracy: 0.8520\n",
      "Epoch 54/100\n",
      "112/112 [==============================] - 0s 4ms/step - loss: 0.3229 - accuracy: 0.8716 - val_loss: 0.3929 - val_accuracy: 0.8532\n",
      "Epoch 55/100\n",
      "112/112 [==============================] - 0s 4ms/step - loss: 0.3226 - accuracy: 0.8703 - val_loss: 0.3955 - val_accuracy: 0.8492\n",
      "Epoch 56/100\n",
      "112/112 [==============================] - 1s 5ms/step - loss: 0.3226 - accuracy: 0.8703 - val_loss: 0.3940 - val_accuracy: 0.8526\n",
      "Epoch 57/100\n"
     ]
    },
    {
     "name": "stdout",
     "output_type": "stream",
     "text": [
      "112/112 [==============================] - 0s 4ms/step - loss: 0.3223 - accuracy: 0.8717 - val_loss: 0.3945 - val_accuracy: 0.8599\n",
      "Epoch 58/100\n",
      "112/112 [==============================] - 0s 3ms/step - loss: 0.3217 - accuracy: 0.8719 - val_loss: 0.3946 - val_accuracy: 0.8565\n",
      "Epoch 59/100\n",
      "112/112 [==============================] - 0s 3ms/step - loss: 0.3218 - accuracy: 0.8702 - val_loss: 0.3957 - val_accuracy: 0.8543\n",
      "Epoch 60/100\n",
      "112/112 [==============================] - 0s 4ms/step - loss: 0.3211 - accuracy: 0.8709 - val_loss: 0.3984 - val_accuracy: 0.8526\n",
      "Epoch 61/100\n",
      "112/112 [==============================] - 1s 6ms/step - loss: 0.3200 - accuracy: 0.8714 - val_loss: 0.3966 - val_accuracy: 0.8537\n",
      "Epoch 62/100\n",
      "112/112 [==============================] - 0s 4ms/step - loss: 0.3205 - accuracy: 0.8710 - val_loss: 0.3984 - val_accuracy: 0.8548\n",
      "Epoch 63/100\n",
      "112/112 [==============================] - 0s 3ms/step - loss: 0.3201 - accuracy: 0.8716 - val_loss: 0.3976 - val_accuracy: 0.8520\n",
      "Epoch 64/100\n",
      "112/112 [==============================] - 0s 3ms/step - loss: 0.3199 - accuracy: 0.8721 - val_loss: 0.3982 - val_accuracy: 0.8543\n",
      "Epoch 65/100\n",
      "112/112 [==============================] - 0s 2ms/step - loss: 0.3185 - accuracy: 0.8710 - val_loss: 0.3990 - val_accuracy: 0.8532\n",
      "Epoch 66/100\n",
      "112/112 [==============================] - 0s 4ms/step - loss: 0.3182 - accuracy: 0.8705 - val_loss: 0.3994 - val_accuracy: 0.8559\n",
      "Epoch 67/100\n",
      "112/112 [==============================] - 0s 4ms/step - loss: 0.3177 - accuracy: 0.8712 - val_loss: 0.3999 - val_accuracy: 0.8559\n",
      "Epoch 68/100\n",
      "112/112 [==============================] - 1s 6ms/step - loss: 0.3176 - accuracy: 0.8724 - val_loss: 0.4012 - val_accuracy: 0.8554\n",
      "Epoch 69/100\n",
      "112/112 [==============================] - 0s 4ms/step - loss: 0.3173 - accuracy: 0.8728 - val_loss: 0.4001 - val_accuracy: 0.8554\n",
      "Epoch 70/100\n",
      "112/112 [==============================] - 0s 2ms/step - loss: 0.3168 - accuracy: 0.8696 - val_loss: 0.4009 - val_accuracy: 0.8571\n",
      "Epoch 71/100\n",
      "112/112 [==============================] - 1s 5ms/step - loss: 0.3163 - accuracy: 0.8723 - val_loss: 0.4012 - val_accuracy: 0.8548\n",
      "Epoch 72/100\n",
      "112/112 [==============================] - 1s 5ms/step - loss: 0.3162 - accuracy: 0.8712 - val_loss: 0.4033 - val_accuracy: 0.8537\n",
      "Epoch 73/100\n",
      "112/112 [==============================] - 0s 4ms/step - loss: 0.3153 - accuracy: 0.8737 - val_loss: 0.4022 - val_accuracy: 0.8582\n",
      "Epoch 74/100\n",
      "112/112 [==============================] - 0s 4ms/step - loss: 0.3148 - accuracy: 0.8740 - val_loss: 0.4034 - val_accuracy: 0.8537\n",
      "Epoch 75/100\n",
      "112/112 [==============================] - 0s 4ms/step - loss: 0.3153 - accuracy: 0.8719 - val_loss: 0.4041 - val_accuracy: 0.8532\n",
      "Epoch 76/100\n",
      "112/112 [==============================] - 0s 4ms/step - loss: 0.3148 - accuracy: 0.8723 - val_loss: 0.4076 - val_accuracy: 0.8543\n",
      "Epoch 77/100\n",
      "112/112 [==============================] - 1s 6ms/step - loss: 0.3154 - accuracy: 0.8738 - val_loss: 0.4055 - val_accuracy: 0.8532\n",
      "Epoch 78/100\n",
      "112/112 [==============================] - 0s 4ms/step - loss: 0.3141 - accuracy: 0.8726 - val_loss: 0.4048 - val_accuracy: 0.8548\n",
      "Epoch 79/100\n",
      "112/112 [==============================] - 1s 5ms/step - loss: 0.3134 - accuracy: 0.8745 - val_loss: 0.4076 - val_accuracy: 0.8520\n",
      "Epoch 80/100\n",
      "112/112 [==============================] - 0s 4ms/step - loss: 0.3128 - accuracy: 0.8717 - val_loss: 0.4066 - val_accuracy: 0.8543\n",
      "Epoch 81/100\n",
      "112/112 [==============================] - 0s 4ms/step - loss: 0.3127 - accuracy: 0.8738 - val_loss: 0.4061 - val_accuracy: 0.8537\n",
      "Epoch 82/100\n",
      "112/112 [==============================] - 0s 4ms/step - loss: 0.3122 - accuracy: 0.8723 - val_loss: 0.4067 - val_accuracy: 0.8548\n",
      "Epoch 83/100\n",
      "112/112 [==============================] - 0s 4ms/step - loss: 0.3116 - accuracy: 0.8731 - val_loss: 0.4086 - val_accuracy: 0.8554\n",
      "Epoch 84/100\n",
      "112/112 [==============================] - 0s 4ms/step - loss: 0.3121 - accuracy: 0.8721 - val_loss: 0.4070 - val_accuracy: 0.8576\n",
      "Epoch 85/100\n",
      "112/112 [==============================] - 0s 4ms/step - loss: 0.3110 - accuracy: 0.8742 - val_loss: 0.4078 - val_accuracy: 0.8532\n",
      "Epoch 86/100\n",
      "112/112 [==============================] - 0s 4ms/step - loss: 0.3107 - accuracy: 0.8740 - val_loss: 0.4120 - val_accuracy: 0.8532\n",
      "Epoch 87/100\n",
      "112/112 [==============================] - 0s 4ms/step - loss: 0.3102 - accuracy: 0.8738 - val_loss: 0.4093 - val_accuracy: 0.8565\n",
      "Epoch 88/100\n",
      "112/112 [==============================] - 0s 4ms/step - loss: 0.3103 - accuracy: 0.8727 - val_loss: 0.4100 - val_accuracy: 0.8532\n",
      "Epoch 89/100\n",
      "112/112 [==============================] - 0s 3ms/step - loss: 0.3094 - accuracy: 0.8734 - val_loss: 0.4102 - val_accuracy: 0.8532\n",
      "Epoch 90/100\n",
      "112/112 [==============================] - 0s 4ms/step - loss: 0.3091 - accuracy: 0.8727 - val_loss: 0.4105 - val_accuracy: 0.8554\n",
      "Epoch 91/100\n",
      "112/112 [==============================] - 0s 4ms/step - loss: 0.3078 - accuracy: 0.8749 - val_loss: 0.4195 - val_accuracy: 0.8487\n",
      "Epoch 92/100\n",
      "112/112 [==============================] - 1s 4ms/step - loss: 0.3082 - accuracy: 0.8745 - val_loss: 0.4131 - val_accuracy: 0.8509\n",
      "Epoch 93/100\n",
      "112/112 [==============================] - 0s 4ms/step - loss: 0.3077 - accuracy: 0.8762 - val_loss: 0.4152 - val_accuracy: 0.8509\n",
      "Epoch 94/100\n",
      "112/112 [==============================] - 0s 4ms/step - loss: 0.3079 - accuracy: 0.8751 - val_loss: 0.4135 - val_accuracy: 0.8504\n",
      "Epoch 95/100\n",
      "112/112 [==============================] - 0s 4ms/step - loss: 0.3068 - accuracy: 0.8727 - val_loss: 0.4161 - val_accuracy: 0.8498\n",
      "Epoch 96/100\n",
      "112/112 [==============================] - 0s 4ms/step - loss: 0.3064 - accuracy: 0.8745 - val_loss: 0.4147 - val_accuracy: 0.8548\n",
      "Epoch 97/100\n",
      "112/112 [==============================] - 0s 4ms/step - loss: 0.3066 - accuracy: 0.8730 - val_loss: 0.4161 - val_accuracy: 0.8515\n",
      "Epoch 98/100\n",
      "112/112 [==============================] - 1s 5ms/step - loss: 0.3057 - accuracy: 0.8737 - val_loss: 0.4186 - val_accuracy: 0.8509\n",
      "Epoch 99/100\n",
      "112/112 [==============================] - 1s 6ms/step - loss: 0.3058 - accuracy: 0.8749 - val_loss: 0.4176 - val_accuracy: 0.8492\n",
      "Epoch 100/100\n",
      "112/112 [==============================] - 0s 4ms/step - loss: 0.3051 - accuracy: 0.8759 - val_loss: 0.4171 - val_accuracy: 0.8509\n"
     ]
    }
   ],
   "source": [
    "history = model.fit(final_train, target_train, validation_data = (final_test, target_test), epochs=100, batch_size=64)"
   ]
  },
  {
   "cell_type": "code",
   "execution_count": 15,
   "metadata": {},
   "outputs": [],
   "source": [
    "y_pred = model.predict(final_test)\n",
    "#Converting predictions to label\n",
    "pred = list()\n",
    "for i in range(len(y_pred)):\n",
    "    pred.append(np.argmax(y_pred[i]))\n",
    "#Converting one hot encoded test label to label\n",
    "test = list()\n",
    "for i in range(len(target_test)):\n",
    "    test.append(np.argmax(target_test[i]))"
   ]
  },
  {
   "cell_type": "code",
   "execution_count": 16,
   "metadata": {},
   "outputs": [
    {
     "name": "stdout",
     "output_type": "stream",
     "text": [
      "Accuracy is: 85.09212730318258\n"
     ]
    }
   ],
   "source": [
    "a = accuracy_score(pred,test)\n",
    "print('Accuracy is:', a*100)\n"
   ]
  },
  {
   "cell_type": "code",
   "execution_count": 17,
   "metadata": {},
   "outputs": [
    {
     "data": {
      "image/png": "[encoded data removed]",
      "text/plain": [
       "<Figure size 432x288 with 1 Axes>"
      ]
     },
     "metadata": {
      "needs_background": "light"
     },
     "output_type": "display_data"
    }
   ],
   "source": [
    "plt.plot(history.history['accuracy'])\n",
    "plt.plot(history.history['val_accuracy'])\n",
    "plt.title('Model accuracy')\n",
    "plt.ylabel('Accuracy')\n",
    "plt.xlabel('Epoch')\n",
    "plt.legend(['Train', 'Test'], loc='upper left')\n",
    "plt.show()"
   ]
  },
  {
   "cell_type": "code",
   "execution_count": 18,
   "metadata": {
    "scrolled": true
   },
   "outputs": [
    {
     "data": {
      "image/png": "[encoded data removed]",
      "text/plain": [
       "<Figure size 432x288 with 1 Axes>"
      ]
     },
     "metadata": {
      "needs_background": "light"
     },
     "output_type": "display_data"
    }
   ],
   "source": [
    "plt.plot(history.history['loss']) \n",
    "plt.plot(history.history['val_loss']) \n",
    "plt.title('Model loss') \n",
    "plt.ylabel('Loss') \n",
    "plt.xlabel('Epoch') \n",
    "plt.legend(['Train', 'Test'], loc='upper left') \n",
    "plt.show()"
   ]
  },
  {
   "cell_type": "code",
   "execution_count": null,
   "metadata": {},
   "outputs": [],
   "source": []
  }
 ],
 "metadata": {
  "kernelspec": {
   "display_name": "Python 3",
   "language": "python",
   "name": "python3"
  },
  "language_info": {
   "codemirror_mode": {
    "name": "ipython",
    "version": 3
   },
   "file_extension": ".py",
   "mimetype": "text/x-python",
   "name": "python",
   "nbconvert_exporter": "python",
   "pygments_lexer": "ipython3",
   "version": "3.8.5"
  }
 },
 "nbformat": 4,
 "nbformat_minor": 4
}
