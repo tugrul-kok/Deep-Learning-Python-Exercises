{
 "cells": [
  {
   "cell_type": "code",
   "execution_count": 1,
   "metadata": {},
   "outputs": [],
   "source": [
    "import numpy as np\n",
    "import pandas as pd\n",
    "\n",
    "# For preprocessing the data\n",
    "from sklearn.preprocessing import LabelEncoder, OneHotEncoder\n",
    "from sklearn.model_selection import train_test_split\n",
    "\n",
    "# To build neural network\n",
    "import keras\n",
    "from keras.models import Sequential\n",
    "from keras.layers import Dense\n",
    "from keras import layers\n",
    "from sklearn.metrics import accuracy_score\n",
    "\n",
    "# To visualize the training process\n",
    "import matplotlib.pyplot as plt"
   ]
  },
  {
   "cell_type": "code",
   "execution_count": 2,
   "metadata": {},
   "outputs": [],
   "source": [
    "data = pd.read_csv(\"aug_train.csv\")\n",
    "data = data.dropna()"
   ]
  },
  {
   "cell_type": "code",
   "execution_count": 3,
   "metadata": {},
   "outputs": [],
   "source": [
    "data.loc[data['experience'] == '<1', 'experience'] = 0\n",
    "data.loc[data['experience'] == '>20', 'experience'] = 21\n",
    "data.loc[data['last_new_job'] == 'never', 'last_new_job'] = 0\n",
    "data.loc[data['last_new_job'] == '>4', 'last_new_job'] = 5"
   ]
  },
  {
   "cell_type": "code",
   "execution_count": 4,
   "metadata": {},
   "outputs": [],
   "source": [
    "data['experience'] = pd.to_numeric(data['experience'])\n",
    "data['last_new_job'] = pd.to_numeric(data['last_new_job'])"
   ]
  },
  {
   "cell_type": "code",
   "execution_count": 5,
   "metadata": {},
   "outputs": [],
   "source": [
    "# This function normalizes\n",
    "def normalizer(data, cols):\n",
    "    mean = data[cols].mean()\n",
    "    data[cols] -= mean\n",
    "    var = data[cols].var()\n",
    "    data[cols] /= var\n",
    "    return data, mean, var"
   ]
  },
  {
   "cell_type": "code",
   "execution_count": 6,
   "metadata": {},
   "outputs": [],
   "source": [
    "# This part normalizes the numerical values and overwrites to data\n",
    "columns = np.array(['training_hours', 'experience', 'last_new_job'])\n",
    "stats = np.empty((3, 2))\n",
    "for i in range(0, 3):\n",
    "    data, stats[i, 0], stats[i, 1] = normalizer(data, columns[i])"
   ]
  },
  {
   "cell_type": "code",
   "execution_count": 7,
   "metadata": {},
   "outputs": [],
   "source": [
    "# Numericals are added.\n",
    "final = (data[['city_development_index', 'training_hours', 'experience', 'last_new_job']]).values\n"
   ]
  },
  {
   "cell_type": "code",
   "execution_count": 8,
   "metadata": {},
   "outputs": [],
   "source": [
    "categoricals = np.array(['city', 'gender', 'relevent_experience', 'enrolled_university', 'education_level', 'major_discipline', 'company_size', 'company_type'])\n"
   ]
  },
  {
   "cell_type": "code",
   "execution_count": 9,
   "metadata": {},
   "outputs": [],
   "source": [
    "# Categoricals are one hot encoded and added to final( Which stores processed values.)\n",
    "for i in categoricals:\n",
    "    values = np.array(data[i])\n",
    "    label_encoder = LabelEncoder() # String values turn into numbers.\n",
    "    integer_encoded = label_encoder.fit_transform(values)\n",
    "    onehot_encoder = OneHotEncoder(sparse=False)\n",
    "    integer_encoded = integer_encoded.reshape(len(integer_encoded), 1)\n",
    "    final = np.hstack((final, onehot_encoder.fit_transform(integer_encoded)))"
   ]
  },
  {
   "cell_type": "code",
   "execution_count": 10,
   "metadata": {},
   "outputs": [],
   "source": [
    "# Target is defined and one hot encoded.\n",
    "target = data.iloc[:,13:14].values\n",
    "target = onehot_encoder.fit_transform(target)"
   ]
  },
  {
   "cell_type": "code",
   "execution_count": 11,
   "metadata": {},
   "outputs": [],
   "source": [
    "# Data are splitted for train and test.\n",
    "values_train, values_test, target_train, target_test = train_test_split(final, target,test_size = 0.2)"
   ]
  },
  {
   "cell_type": "code",
   "execution_count": 12,
   "metadata": {
    "scrolled": true
   },
   "outputs": [],
   "source": [
    "# Model is created.\n",
    "model = Sequential()\n",
    "model.add(Dense(16, input_dim=151,activation='relu'))\n",
    "model.add(layers.Dropout(0.5))\n",
    "model.add(Dense(12, activation='relu'))\n",
    "model.add(Dense(2, activation='sigmoid'))"
   ]
  },
  {
   "cell_type": "code",
   "execution_count": 13,
   "metadata": {},
   "outputs": [],
   "source": [
    "model.compile(loss='categorical_crossentropy', optimizer='adam', metrics=['accuracy'])"
   ]
  },
  {
   "cell_type": "code",
   "execution_count": 14,
   "metadata": {},
   "outputs": [
    {
     "name": "stdout",
     "output_type": "stream",
     "text": [
      "Epoch 1/100\n",
      "112/112 [==============================] - 1s 6ms/step - loss: 0.5646 - accuracy: 0.7296 - val_loss: 0.4252 - val_accuracy: 0.8353\n",
      "Epoch 2/100\n",
      "112/112 [==============================] - 0s 4ms/step - loss: 0.4392 - accuracy: 0.8343 - val_loss: 0.3966 - val_accuracy: 0.8353\n",
      "Epoch 3/100\n",
      "112/112 [==============================] - 1s 5ms/step - loss: 0.4143 - accuracy: 0.8357 - val_loss: 0.3771 - val_accuracy: 0.8353\n",
      "Epoch 4/100\n",
      "112/112 [==============================] - 1s 5ms/step - loss: 0.3999 - accuracy: 0.8391 - val_loss: 0.3660 - val_accuracy: 0.8358\n",
      "Epoch 5/100\n",
      "112/112 [==============================] - 1s 5ms/step - loss: 0.3917 - accuracy: 0.8430 - val_loss: 0.3582 - val_accuracy: 0.8409\n",
      "Epoch 6/100\n",
      "112/112 [==============================] - 0s 4ms/step - loss: 0.3822 - accuracy: 0.8458 - val_loss: 0.3535 - val_accuracy: 0.8459\n",
      "Epoch 7/100\n",
      "112/112 [==============================] - 0s 4ms/step - loss: 0.3782 - accuracy: 0.8444 - val_loss: 0.3514 - val_accuracy: 0.8476\n",
      "Epoch 8/100\n",
      "112/112 [==============================] - 0s 4ms/step - loss: 0.3732 - accuracy: 0.8492 - val_loss: 0.3504 - val_accuracy: 0.8576\n",
      "Epoch 9/100\n",
      "112/112 [==============================] - 1s 5ms/step - loss: 0.3697 - accuracy: 0.8483 - val_loss: 0.3470 - val_accuracy: 0.8582\n",
      "Epoch 10/100\n",
      "112/112 [==============================] - 0s 4ms/step - loss: 0.3658 - accuracy: 0.8499 - val_loss: 0.3469 - val_accuracy: 0.8565\n",
      "Epoch 11/100\n",
      "112/112 [==============================] - 1s 5ms/step - loss: 0.3686 - accuracy: 0.8520 - val_loss: 0.3480 - val_accuracy: 0.8582\n",
      "Epoch 12/100\n",
      "112/112 [==============================] - 1s 6ms/step - loss: 0.3652 - accuracy: 0.8541 - val_loss: 0.3452 - val_accuracy: 0.8610\n",
      "Epoch 13/100\n",
      "112/112 [==============================] - 1s 5ms/step - loss: 0.3634 - accuracy: 0.8554 - val_loss: 0.3460 - val_accuracy: 0.8615\n",
      "Epoch 14/100\n",
      "112/112 [==============================] - 0s 4ms/step - loss: 0.3647 - accuracy: 0.8515 - val_loss: 0.3458 - val_accuracy: 0.8638\n",
      "Epoch 15/100\n",
      "112/112 [==============================] - 1s 7ms/step - loss: 0.3630 - accuracy: 0.8543 - val_loss: 0.3451 - val_accuracy: 0.8638\n",
      "Epoch 16/100\n",
      "112/112 [==============================] - 1s 5ms/step - loss: 0.3599 - accuracy: 0.8534 - val_loss: 0.3456 - val_accuracy: 0.8638\n",
      "Epoch 17/100\n",
      "112/112 [==============================] - 0s 3ms/step - loss: 0.3586 - accuracy: 0.8557 - val_loss: 0.3449 - val_accuracy: 0.8621\n",
      "Epoch 18/100\n",
      "112/112 [==============================] - 1s 5ms/step - loss: 0.3600 - accuracy: 0.8546 - val_loss: 0.3446 - val_accuracy: 0.8638\n",
      "Epoch 19/100\n",
      "112/112 [==============================] - 0s 4ms/step - loss: 0.3585 - accuracy: 0.8551 - val_loss: 0.3454 - val_accuracy: 0.8632\n",
      "Epoch 20/100\n",
      "112/112 [==============================] - 0s 3ms/step - loss: 0.3566 - accuracy: 0.8565 - val_loss: 0.3449 - val_accuracy: 0.8649\n",
      "Epoch 21/100\n",
      "112/112 [==============================] - 0s 3ms/step - loss: 0.3587 - accuracy: 0.8548 - val_loss: 0.3453 - val_accuracy: 0.8649\n",
      "Epoch 22/100\n",
      "112/112 [==============================] - 1s 5ms/step - loss: 0.3570 - accuracy: 0.8580 - val_loss: 0.3455 - val_accuracy: 0.8660\n",
      "Epoch 23/100\n",
      "112/112 [==============================] - 1s 5ms/step - loss: 0.3542 - accuracy: 0.8571 - val_loss: 0.3456 - val_accuracy: 0.8654\n",
      "Epoch 24/100\n",
      "112/112 [==============================] - 0s 4ms/step - loss: 0.3569 - accuracy: 0.8586 - val_loss: 0.3462 - val_accuracy: 0.8654\n",
      "Epoch 25/100\n",
      "112/112 [==============================] - 1s 5ms/step - loss: 0.3566 - accuracy: 0.8565 - val_loss: 0.3460 - val_accuracy: 0.8649\n",
      "Epoch 26/100\n",
      "112/112 [==============================] - 1s 5ms/step - loss: 0.3542 - accuracy: 0.8604 - val_loss: 0.3464 - val_accuracy: 0.8660\n",
      "Epoch 27/100\n",
      "112/112 [==============================] - 1s 5ms/step - loss: 0.3556 - accuracy: 0.8564 - val_loss: 0.3464 - val_accuracy: 0.8654\n",
      "Epoch 28/100\n",
      "112/112 [==============================] - 1s 5ms/step - loss: 0.3529 - accuracy: 0.8596 - val_loss: 0.3458 - val_accuracy: 0.8654\n",
      "Epoch 29/100\n",
      "112/112 [==============================] - 1s 5ms/step - loss: 0.3569 - accuracy: 0.8527 - val_loss: 0.3481 - val_accuracy: 0.8654\n",
      "Epoch 30/100\n",
      "112/112 [==============================] - 0s 4ms/step - loss: 0.3517 - accuracy: 0.8606 - val_loss: 0.3466 - val_accuracy: 0.8649\n",
      "Epoch 31/100\n",
      "112/112 [==============================] - 1s 5ms/step - loss: 0.3527 - accuracy: 0.8585 - val_loss: 0.3473 - val_accuracy: 0.8649\n",
      "Epoch 32/100\n",
      "112/112 [==============================] - 1s 5ms/step - loss: 0.3540 - accuracy: 0.8566 - val_loss: 0.3469 - val_accuracy: 0.8654\n",
      "Epoch 33/100\n",
      "112/112 [==============================] - 1s 5ms/step - loss: 0.3521 - accuracy: 0.8618 - val_loss: 0.3471 - val_accuracy: 0.8654\n",
      "Epoch 34/100\n",
      "112/112 [==============================] - 1s 6ms/step - loss: 0.3521 - accuracy: 0.8590 - val_loss: 0.3476 - val_accuracy: 0.8654\n",
      "Epoch 35/100\n",
      "112/112 [==============================] - 1s 5ms/step - loss: 0.3489 - accuracy: 0.8592 - val_loss: 0.3474 - val_accuracy: 0.8632\n",
      "Epoch 36/100\n",
      "112/112 [==============================] - 1s 5ms/step - loss: 0.3507 - accuracy: 0.8599 - val_loss: 0.3483 - val_accuracy: 0.8632\n",
      "Epoch 37/100\n",
      "112/112 [==============================] - 1s 5ms/step - loss: 0.3490 - accuracy: 0.8593 - val_loss: 0.3487 - val_accuracy: 0.8621\n",
      "Epoch 38/100\n",
      "112/112 [==============================] - 1s 5ms/step - loss: 0.3481 - accuracy: 0.8615 - val_loss: 0.3485 - val_accuracy: 0.8626\n",
      "Epoch 39/100\n",
      "112/112 [==============================] - 1s 5ms/step - loss: 0.3458 - accuracy: 0.8611 - val_loss: 0.3489 - val_accuracy: 0.8615\n",
      "Epoch 40/100\n",
      "112/112 [==============================] - 1s 5ms/step - loss: 0.3480 - accuracy: 0.8603 - val_loss: 0.3487 - val_accuracy: 0.8638\n",
      "Epoch 41/100\n",
      "112/112 [==============================] - 1s 5ms/step - loss: 0.3490 - accuracy: 0.8572 - val_loss: 0.3488 - val_accuracy: 0.8632\n",
      "Epoch 42/100\n",
      "112/112 [==============================] - 0s 4ms/step - loss: 0.3467 - accuracy: 0.8629 - val_loss: 0.3490 - val_accuracy: 0.8621\n",
      "Epoch 43/100\n",
      "112/112 [==============================] - 0s 4ms/step - loss: 0.3475 - accuracy: 0.8573 - val_loss: 0.3496 - val_accuracy: 0.8615\n",
      "Epoch 44/100\n",
      "112/112 [==============================] - 1s 5ms/step - loss: 0.3465 - accuracy: 0.8619 - val_loss: 0.3495 - val_accuracy: 0.8632\n",
      "Epoch 45/100\n",
      "112/112 [==============================] - 1s 5ms/step - loss: 0.3451 - accuracy: 0.8608 - val_loss: 0.3514 - val_accuracy: 0.8610\n",
      "Epoch 46/100\n",
      "112/112 [==============================] - 0s 4ms/step - loss: 0.3471 - accuracy: 0.8615 - val_loss: 0.3511 - val_accuracy: 0.8610\n",
      "Epoch 47/100\n",
      "112/112 [==============================] - 1s 5ms/step - loss: 0.3476 - accuracy: 0.8600 - val_loss: 0.3507 - val_accuracy: 0.8610\n",
      "Epoch 48/100\n",
      "112/112 [==============================] - 1s 5ms/step - loss: 0.3438 - accuracy: 0.8621 - val_loss: 0.3510 - val_accuracy: 0.8599\n",
      "Epoch 49/100\n",
      "112/112 [==============================] - 1s 5ms/step - loss: 0.3448 - accuracy: 0.8624 - val_loss: 0.3518 - val_accuracy: 0.8604\n",
      "Epoch 50/100\n",
      "112/112 [==============================] - 1s 5ms/step - loss: 0.3443 - accuracy: 0.8617 - val_loss: 0.3519 - val_accuracy: 0.8604\n",
      "Epoch 51/100\n",
      "112/112 [==============================] - 1s 5ms/step - loss: 0.3440 - accuracy: 0.8624 - val_loss: 0.3523 - val_accuracy: 0.8599\n",
      "Epoch 52/100\n",
      "112/112 [==============================] - 1s 5ms/step - loss: 0.3424 - accuracy: 0.8621 - val_loss: 0.3521 - val_accuracy: 0.8604\n",
      "Epoch 53/100\n",
      "112/112 [==============================] - 1s 5ms/step - loss: 0.3439 - accuracy: 0.8615 - val_loss: 0.3525 - val_accuracy: 0.8599\n",
      "Epoch 54/100\n",
      "112/112 [==============================] - 1s 6ms/step - loss: 0.3450 - accuracy: 0.8587 - val_loss: 0.3524 - val_accuracy: 0.8599\n",
      "Epoch 55/100\n",
      "112/112 [==============================] - 1s 5ms/step - loss: 0.3409 - accuracy: 0.8629 - val_loss: 0.3545 - val_accuracy: 0.8599\n",
      "Epoch 56/100\n",
      "112/112 [==============================] - 1s 5ms/step - loss: 0.3441 - accuracy: 0.8615 - val_loss: 0.3536 - val_accuracy: 0.8610\n",
      "Epoch 57/100\n",
      "112/112 [==============================] - 1s 7ms/step - loss: 0.3400 - accuracy: 0.8615 - val_loss: 0.3544 - val_accuracy: 0.8615\n"
     ]
    },
    {
     "name": "stdout",
     "output_type": "stream",
     "text": [
      "Epoch 58/100\n",
      "112/112 [==============================] - 1s 5ms/step - loss: 0.3430 - accuracy: 0.8607 - val_loss: 0.3539 - val_accuracy: 0.8587\n",
      "Epoch 59/100\n",
      "112/112 [==============================] - 1s 5ms/step - loss: 0.3416 - accuracy: 0.8604 - val_loss: 0.3554 - val_accuracy: 0.8593\n",
      "Epoch 60/100\n",
      "112/112 [==============================] - 0s 4ms/step - loss: 0.3425 - accuracy: 0.8599 - val_loss: 0.3548 - val_accuracy: 0.8604\n",
      "Epoch 61/100\n",
      "112/112 [==============================] - 0s 4ms/step - loss: 0.3393 - accuracy: 0.8631 - val_loss: 0.3557 - val_accuracy: 0.8599\n",
      "Epoch 62/100\n",
      "112/112 [==============================] - 0s 4ms/step - loss: 0.3414 - accuracy: 0.8604 - val_loss: 0.3548 - val_accuracy: 0.8615\n",
      "Epoch 63/100\n",
      "112/112 [==============================] - 0s 4ms/step - loss: 0.3396 - accuracy: 0.8615 - val_loss: 0.3558 - val_accuracy: 0.8615\n",
      "Epoch 64/100\n",
      "112/112 [==============================] - 0s 4ms/step - loss: 0.3403 - accuracy: 0.8631 - val_loss: 0.3556 - val_accuracy: 0.8604\n",
      "Epoch 65/100\n",
      "112/112 [==============================] - 0s 4ms/step - loss: 0.3397 - accuracy: 0.8622 - val_loss: 0.3566 - val_accuracy: 0.8610\n",
      "Epoch 66/100\n",
      "112/112 [==============================] - 1s 5ms/step - loss: 0.3393 - accuracy: 0.8619 - val_loss: 0.3576 - val_accuracy: 0.8593\n",
      "Epoch 67/100\n",
      "112/112 [==============================] - 0s 4ms/step - loss: 0.3396 - accuracy: 0.8583 - val_loss: 0.3577 - val_accuracy: 0.8599\n",
      "Epoch 68/100\n",
      "112/112 [==============================] - 0s 4ms/step - loss: 0.3417 - accuracy: 0.8610 - val_loss: 0.3574 - val_accuracy: 0.8604\n",
      "Epoch 69/100\n",
      "112/112 [==============================] - 1s 5ms/step - loss: 0.3401 - accuracy: 0.8613 - val_loss: 0.3571 - val_accuracy: 0.8599\n",
      "Epoch 70/100\n",
      "112/112 [==============================] - 1s 5ms/step - loss: 0.3389 - accuracy: 0.8617 - val_loss: 0.3586 - val_accuracy: 0.8599\n",
      "Epoch 71/100\n",
      "112/112 [==============================] - 0s 4ms/step - loss: 0.3406 - accuracy: 0.8596 - val_loss: 0.3602 - val_accuracy: 0.8582\n",
      "Epoch 72/100\n",
      "112/112 [==============================] - 0s 4ms/step - loss: 0.3366 - accuracy: 0.8619 - val_loss: 0.3595 - val_accuracy: 0.8582\n",
      "Epoch 73/100\n",
      "112/112 [==============================] - 0s 4ms/step - loss: 0.3388 - accuracy: 0.8621 - val_loss: 0.3612 - val_accuracy: 0.8593\n",
      "Epoch 74/100\n",
      "112/112 [==============================] - 0s 4ms/step - loss: 0.3405 - accuracy: 0.8586 - val_loss: 0.3592 - val_accuracy: 0.8587\n",
      "Epoch 75/100\n",
      "112/112 [==============================] - 0s 4ms/step - loss: 0.3399 - accuracy: 0.8597 - val_loss: 0.3598 - val_accuracy: 0.8587\n",
      "Epoch 76/100\n",
      "112/112 [==============================] - 0s 4ms/step - loss: 0.3361 - accuracy: 0.8614 - val_loss: 0.3600 - val_accuracy: 0.8599\n",
      "Epoch 77/100\n",
      "112/112 [==============================] - 1s 5ms/step - loss: 0.3396 - accuracy: 0.8599 - val_loss: 0.3601 - val_accuracy: 0.8582\n",
      "Epoch 78/100\n",
      "112/112 [==============================] - 0s 4ms/step - loss: 0.3394 - accuracy: 0.8660 - val_loss: 0.3604 - val_accuracy: 0.8599\n",
      "Epoch 79/100\n",
      "112/112 [==============================] - 1s 5ms/step - loss: 0.3407 - accuracy: 0.8604 - val_loss: 0.3592 - val_accuracy: 0.8604\n",
      "Epoch 80/100\n",
      "112/112 [==============================] - 1s 5ms/step - loss: 0.3370 - accuracy: 0.8625 - val_loss: 0.3599 - val_accuracy: 0.8610\n",
      "Epoch 81/100\n",
      "112/112 [==============================] - 1s 5ms/step - loss: 0.3356 - accuracy: 0.8622 - val_loss: 0.3617 - val_accuracy: 0.8576\n",
      "Epoch 82/100\n",
      "112/112 [==============================] - 0s 4ms/step - loss: 0.3365 - accuracy: 0.8643 - val_loss: 0.3620 - val_accuracy: 0.8576\n",
      "Epoch 83/100\n",
      "112/112 [==============================] - 1s 5ms/step - loss: 0.3372 - accuracy: 0.8626 - val_loss: 0.3606 - val_accuracy: 0.8565\n",
      "Epoch 84/100\n",
      "112/112 [==============================] - 0s 4ms/step - loss: 0.3351 - accuracy: 0.8667 - val_loss: 0.3607 - val_accuracy: 0.8599\n",
      "Epoch 85/100\n",
      "112/112 [==============================] - 0s 4ms/step - loss: 0.3381 - accuracy: 0.8646 - val_loss: 0.3621 - val_accuracy: 0.8582\n",
      "Epoch 86/100\n",
      "112/112 [==============================] - 1s 5ms/step - loss: 0.3359 - accuracy: 0.8661 - val_loss: 0.3632 - val_accuracy: 0.8576\n",
      "Epoch 87/100\n",
      "112/112 [==============================] - 1s 5ms/step - loss: 0.3352 - accuracy: 0.8664 - val_loss: 0.3617 - val_accuracy: 0.8599\n",
      "Epoch 88/100\n",
      "112/112 [==============================] - 1s 5ms/step - loss: 0.3360 - accuracy: 0.8643 - val_loss: 0.3634 - val_accuracy: 0.8565\n",
      "Epoch 89/100\n",
      "112/112 [==============================] - 1s 6ms/step - loss: 0.3384 - accuracy: 0.8650 - val_loss: 0.3630 - val_accuracy: 0.8576\n",
      "Epoch 90/100\n",
      "112/112 [==============================] - 1s 5ms/step - loss: 0.3380 - accuracy: 0.8600 - val_loss: 0.3638 - val_accuracy: 0.8565\n",
      "Epoch 91/100\n",
      "112/112 [==============================] - 1s 5ms/step - loss: 0.3341 - accuracy: 0.8664 - val_loss: 0.3626 - val_accuracy: 0.8604\n",
      "Epoch 92/100\n",
      "112/112 [==============================] - 0s 4ms/step - loss: 0.3331 - accuracy: 0.8640 - val_loss: 0.3638 - val_accuracy: 0.8576\n",
      "Epoch 93/100\n",
      "112/112 [==============================] - 1s 5ms/step - loss: 0.3339 - accuracy: 0.8667 - val_loss: 0.3640 - val_accuracy: 0.8593\n",
      "Epoch 94/100\n",
      "112/112 [==============================] - 1s 5ms/step - loss: 0.3365 - accuracy: 0.8673 - val_loss: 0.3643 - val_accuracy: 0.8571\n",
      "Epoch 95/100\n",
      "112/112 [==============================] - 0s 4ms/step - loss: 0.3342 - accuracy: 0.8673 - val_loss: 0.3656 - val_accuracy: 0.8548\n",
      "Epoch 96/100\n",
      "112/112 [==============================] - 1s 5ms/step - loss: 0.3337 - accuracy: 0.8674 - val_loss: 0.3655 - val_accuracy: 0.8565\n",
      "Epoch 97/100\n",
      "112/112 [==============================] - 1s 5ms/step - loss: 0.3319 - accuracy: 0.8660 - val_loss: 0.3670 - val_accuracy: 0.8565\n",
      "Epoch 98/100\n",
      "112/112 [==============================] - 1s 5ms/step - loss: 0.3319 - accuracy: 0.8692 - val_loss: 0.3669 - val_accuracy: 0.8543\n",
      "Epoch 99/100\n",
      "112/112 [==============================] - 1s 6ms/step - loss: 0.3353 - accuracy: 0.8675 - val_loss: 0.3641 - val_accuracy: 0.8571\n",
      "Epoch 100/100\n",
      "112/112 [==============================] - 1s 5ms/step - loss: 0.3334 - accuracy: 0.8670 - val_loss: 0.3663 - val_accuracy: 0.8582\n"
     ]
    }
   ],
   "source": [
    "history = model.fit(values_train, target_train, validation_data = (values_test, target_test), epochs=100, batch_size=64)"
   ]
  },
  {
   "cell_type": "code",
   "execution_count": 15,
   "metadata": {},
   "outputs": [],
   "source": [
    "# This part tests our model\n",
    "target_prediction = model.predict(values_test)\n",
    "#Converting predictions to label\n",
    "prediction = list()\n",
    "for i in range(len(target_prediction)):\n",
    "    prediction.append(np.argmax(target_prediction[i]))\n",
    "#Converting one hot encoded test label to label\n",
    "test = list()\n",
    "for i in range(len(target_test)):\n",
    "    test.append(np.argmax(target_test[i]))"
   ]
  },
  {
   "cell_type": "code",
   "execution_count": 16,
   "metadata": {},
   "outputs": [
    {
     "name": "stdout",
     "output_type": "stream",
     "text": [
      "Accuracy is: 85.81797878280291\n"
     ]
    }
   ],
   "source": [
    "a = accuracy_score(prediction,test)\n",
    "print('Accuracy is:', a*100)\n"
   ]
  },
  {
   "cell_type": "code",
   "execution_count": 17,
   "metadata": {},
   "outputs": [
    {
     "data": {
      "image/png": "[encoded data removed]",
      "text/plain": [
       "<Figure size 432x288 with 1 Axes>"
      ]
     },
     "metadata": {
      "needs_background": "light"
     },
     "output_type": "display_data"
    }
   ],
   "source": [
    "plt.plot(history.history['accuracy'])\n",
    "plt.plot(history.history['val_accuracy'])\n",
    "plt.title('Model accuracy')\n",
    "plt.ylabel('Accuracy')\n",
    "plt.xlabel('Epoch')\n",
    "plt.legend(['Train', 'Test'], loc='upper left')\n",
    "plt.show()"
   ]
  },
  {
   "cell_type": "code",
   "execution_count": 18,
   "metadata": {
    "scrolled": true
   },
   "outputs": [
    {
     "data": {
      "image/png": "[encoded data removed]",
      "text/plain": [
       "<Figure size 432x288 with 1 Axes>"
      ]
     },
     "metadata": {
      "needs_background": "light"
     },
     "output_type": "display_data"
    }
   ],
   "source": [
    "plt.plot(history.history['loss']) \n",
    "plt.plot(history.history['val_loss']) \n",
    "plt.title('Model loss') \n",
    "plt.ylabel('Loss') \n",
    "plt.xlabel('Epoch') \n",
    "plt.legend(['Train', 'Test'], loc='upper left') \n",
    "plt.show()"
   ]
  }
 ],
 "metadata": {
  "kernelspec": {
   "display_name": "Python 3",
   "language": "python",
   "name": "python3"
  },
  "language_info": {
   "codemirror_mode": {
    "name": "ipython",
    "version": 3
   },
   "file_extension": ".py",
   "mimetype": "text/x-python",
   "name": "python",
   "nbconvert_exporter": "python",
   "pygments_lexer": "ipython3",
   "version": "3.8.5"
  }
 },
 "nbformat": 4,
 "nbformat_minor": 4
}
