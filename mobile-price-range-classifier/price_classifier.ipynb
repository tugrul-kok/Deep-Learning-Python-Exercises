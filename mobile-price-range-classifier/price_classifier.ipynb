{
 "cells": [
  {
   "cell_type": "code",
   "execution_count": 1,
   "metadata": {},
   "outputs": [],
   "source": [
    "import numpy as np\n",
    "import pandas as pd\n",
    "\n",
    "# For data preprocessing\n",
    "from sklearn.preprocessing import StandardScaler, OneHotEncoder\n",
    "from sklearn.model_selection import train_test_split\n",
    "\n",
    "# For neural network\n",
    "import keras\n",
    "from keras.models import Sequential\n",
    "from keras.layers import Dense\n",
    "\n",
    "# For testing\n",
    "from sklearn.metrics import accuracy_score"
   ]
  },
  {
   "cell_type": "code",
   "execution_count": 12,
   "metadata": {
    "scrolled": true
   },
   "outputs": [],
   "source": [
    "# Data is imported, downloaded from https://www.kaggle.com/iabhishekofficial/mobile-price-classification\n",
    "data = pd.read_csv('train.csv')\n",
    "#data.head(10)"
   ]
  },
  {
   "cell_type": "code",
   "execution_count": 3,
   "metadata": {
    "scrolled": true
   },
   "outputs": [],
   "source": [
    "# Changing data into array.\n",
    "features = data.iloc[:,:20].values\n",
    "price_range = data.iloc[:,20:21].values"
   ]
  },
  {
   "cell_type": "code",
   "execution_count": 4,
   "metadata": {},
   "outputs": [],
   "source": [
    "# Normalization\n",
    "sc = StandardScaler()\n",
    "features = sc.fit_transform(features)"
   ]
  },
  {
   "cell_type": "code",
   "execution_count": 5,
   "metadata": {},
   "outputs": [],
   "source": [
    "# One hot encoding\n",
    "ohe = OneHotEncoder()\n",
    "price_range = ohe.fit_transform(price_range).toarray()"
   ]
  },
  {
   "cell_type": "code",
   "execution_count": 6,
   "metadata": {},
   "outputs": [],
   "source": [
    "# Splitting data into test and train. 90% test, 10% train\n",
    "features_train, features_test, price_range_train, price_range_test = train_test_split(features, price_range,test_size = 0.1)"
   ]
  },
  {
   "cell_type": "code",
   "execution_count": 7,
   "metadata": {},
   "outputs": [],
   "source": [
    "# Model is created\n",
    "model = Sequential()\n",
    "model.add(Dense(16, input_dim=20, activation= 'relu'))\n",
    "model.add(Dense(12, activation='relu'))\n",
    "model.add(Dense(4, activation='softmax'))"
   ]
  },
  {
   "cell_type": "code",
   "execution_count": 8,
   "metadata": {},
   "outputs": [],
   "source": [
    "# The loss function\n",
    "model.compile(loss='categorical_crossentropy', optimizer='adam', metrics=['accuracy'])"
   ]
  },
  {
   "cell_type": "code",
   "execution_count": 9,
   "metadata": {
    "scrolled": true
   },
   "outputs": [
    {
     "name": "stdout",
     "output_type": "stream",
     "text": [
      "Epoch 1/100\n",
      "29/29 [==============================] - 0s 3ms/step - loss: 1.3551 - accuracy: 0.3456\n",
      "Epoch 2/100\n",
      "29/29 [==============================] - 0s 3ms/step - loss: 1.2857 - accuracy: 0.4028\n",
      "Epoch 3/100\n",
      "29/29 [==============================] - 0s 3ms/step - loss: 1.2270 - accuracy: 0.4550\n",
      "Epoch 4/100\n",
      "29/29 [==============================] - 0s 3ms/step - loss: 1.1592 - accuracy: 0.5006\n",
      "Epoch 5/100\n",
      "29/29 [==============================] - 0s 3ms/step - loss: 1.0864 - accuracy: 0.5333\n",
      "Epoch 6/100\n",
      "29/29 [==============================] - 0s 3ms/step - loss: 1.0116 - accuracy: 0.5678\n",
      "Epoch 7/100\n",
      "29/29 [==============================] - 0s 3ms/step - loss: 0.9357 - accuracy: 0.5983\n",
      "Epoch 8/100\n",
      "29/29 [==============================] - 0s 3ms/step - loss: 0.8625 - accuracy: 0.6461\n",
      "Epoch 9/100\n",
      "29/29 [==============================] - 0s 4ms/step - loss: 0.7915 - accuracy: 0.6811\n",
      "Epoch 10/100\n",
      "29/29 [==============================] - 0s 4ms/step - loss: 0.7264 - accuracy: 0.7106\n",
      "Epoch 11/100\n",
      "29/29 [==============================] - 0s 3ms/step - loss: 0.6660 - accuracy: 0.7428\n",
      "Epoch 12/100\n",
      "29/29 [==============================] - 0s 4ms/step - loss: 0.6105 - accuracy: 0.7717\n",
      "Epoch 13/100\n",
      "29/29 [==============================] - 0s 3ms/step - loss: 0.5620 - accuracy: 0.7950\n",
      "Epoch 14/100\n",
      "29/29 [==============================] - 0s 3ms/step - loss: 0.5186 - accuracy: 0.8172\n",
      "Epoch 15/100\n",
      "29/29 [==============================] - 0s 3ms/step - loss: 0.4796 - accuracy: 0.8322\n",
      "Epoch 16/100\n",
      "29/29 [==============================] - 0s 3ms/step - loss: 0.4442 - accuracy: 0.8494\n",
      "Epoch 17/100\n",
      "29/29 [==============================] - 0s 4ms/step - loss: 0.4122 - accuracy: 0.8639\n",
      "Epoch 18/100\n",
      "29/29 [==============================] - 0s 4ms/step - loss: 0.3838 - accuracy: 0.8772\n",
      "Epoch 19/100\n",
      "29/29 [==============================] - 0s 3ms/step - loss: 0.3591 - accuracy: 0.8833\n",
      "Epoch 20/100\n",
      "29/29 [==============================] - 0s 3ms/step - loss: 0.3364 - accuracy: 0.8978\n",
      "Epoch 21/100\n",
      "29/29 [==============================] - 0s 3ms/step - loss: 0.3180 - accuracy: 0.9028\n",
      "Epoch 22/100\n",
      "29/29 [==============================] - 0s 3ms/step - loss: 0.2990 - accuracy: 0.9111\n",
      "Epoch 23/100\n",
      "29/29 [==============================] - 0s 4ms/step - loss: 0.2828 - accuracy: 0.9150\n",
      "Epoch 24/100\n",
      "29/29 [==============================] - 0s 3ms/step - loss: 0.2697 - accuracy: 0.9161\n",
      "Epoch 25/100\n",
      "29/29 [==============================] - 0s 3ms/step - loss: 0.2556 - accuracy: 0.9228\n",
      "Epoch 26/100\n",
      "29/29 [==============================] - 0s 3ms/step - loss: 0.2445 - accuracy: 0.9289\n",
      "Epoch 27/100\n",
      "29/29 [==============================] - 0s 3ms/step - loss: 0.2337 - accuracy: 0.9294\n",
      "Epoch 28/100\n",
      "29/29 [==============================] - 0s 4ms/step - loss: 0.2233 - accuracy: 0.9267\n",
      "Epoch 29/100\n",
      "29/29 [==============================] - 0s 3ms/step - loss: 0.2146 - accuracy: 0.9367\n",
      "Epoch 30/100\n",
      "29/29 [==============================] - 0s 5ms/step - loss: 0.2062 - accuracy: 0.9389\n",
      "Epoch 31/100\n",
      "29/29 [==============================] - 0s 3ms/step - loss: 0.1977 - accuracy: 0.9322\n",
      "Epoch 32/100\n",
      "29/29 [==============================] - 0s 3ms/step - loss: 0.1912 - accuracy: 0.9417\n",
      "Epoch 33/100\n",
      "29/29 [==============================] - 0s 4ms/step - loss: 0.1837 - accuracy: 0.9450\n",
      "Epoch 34/100\n",
      "29/29 [==============================] - 0s 3ms/step - loss: 0.1768 - accuracy: 0.9444\n",
      "Epoch 35/100\n",
      "29/29 [==============================] - 0s 4ms/step - loss: 0.1709 - accuracy: 0.9506\n",
      "Epoch 36/100\n",
      "29/29 [==============================] - 0s 3ms/step - loss: 0.1666 - accuracy: 0.9511\n",
      "Epoch 37/100\n",
      "29/29 [==============================] - 0s 3ms/step - loss: 0.1604 - accuracy: 0.9517\n",
      "Epoch 38/100\n",
      "29/29 [==============================] - 0s 3ms/step - loss: 0.1555 - accuracy: 0.9550\n",
      "Epoch 39/100\n",
      "29/29 [==============================] - 0s 3ms/step - loss: 0.1505 - accuracy: 0.9583\n",
      "Epoch 40/100\n",
      "29/29 [==============================] - 0s 3ms/step - loss: 0.1473 - accuracy: 0.9550\n",
      "Epoch 41/100\n",
      "29/29 [==============================] - 0s 3ms/step - loss: 0.1421 - accuracy: 0.9606\n",
      "Epoch 42/100\n",
      "29/29 [==============================] - 0s 3ms/step - loss: 0.1388 - accuracy: 0.9611\n",
      "Epoch 43/100\n",
      "29/29 [==============================] - 0s 4ms/step - loss: 0.1345 - accuracy: 0.9617\n",
      "Epoch 44/100\n",
      "29/29 [==============================] - 0s 5ms/step - loss: 0.1307 - accuracy: 0.9633\n",
      "Epoch 45/100\n",
      "29/29 [==============================] - 0s 4ms/step - loss: 0.1295 - accuracy: 0.9611\n",
      "Epoch 46/100\n",
      "29/29 [==============================] - 0s 5ms/step - loss: 0.1241 - accuracy: 0.9661\n",
      "Epoch 47/100\n",
      "29/29 [==============================] - 0s 5ms/step - loss: 0.1212 - accuracy: 0.9656\n",
      "Epoch 48/100\n",
      "29/29 [==============================] - 0s 4ms/step - loss: 0.1177 - accuracy: 0.9661\n",
      "Epoch 49/100\n",
      "29/29 [==============================] - 0s 4ms/step - loss: 0.1159 - accuracy: 0.9683\n",
      "Epoch 50/100\n",
      "29/29 [==============================] - 0s 4ms/step - loss: 0.1124 - accuracy: 0.9733\n",
      "Epoch 51/100\n",
      "29/29 [==============================] - 0s 3ms/step - loss: 0.1091 - accuracy: 0.9722\n",
      "Epoch 52/100\n",
      "29/29 [==============================] - 0s 4ms/step - loss: 0.1069 - accuracy: 0.9717\n",
      "Epoch 53/100\n",
      "29/29 [==============================] - 0s 3ms/step - loss: 0.1049 - accuracy: 0.9722\n",
      "Epoch 54/100\n",
      "29/29 [==============================] - 0s 3ms/step - loss: 0.1025 - accuracy: 0.9744\n",
      "Epoch 55/100\n",
      "29/29 [==============================] - 0s 3ms/step - loss: 0.1025 - accuracy: 0.9700\n",
      "Epoch 56/100\n",
      "29/29 [==============================] - 0s 3ms/step - loss: 0.0982 - accuracy: 0.9750\n",
      "Epoch 57/100\n",
      "29/29 [==============================] - 0s 3ms/step - loss: 0.0954 - accuracy: 0.9761\n",
      "Epoch 58/100\n",
      "29/29 [==============================] - 0s 5ms/step - loss: 0.0935 - accuracy: 0.9772\n",
      "Epoch 59/100\n",
      "29/29 [==============================] - 0s 3ms/step - loss: 0.0920 - accuracy: 0.9756\n",
      "Epoch 60/100\n",
      "29/29 [==============================] - 0s 3ms/step - loss: 0.0899 - accuracy: 0.9744\n",
      "Epoch 61/100\n",
      "29/29 [==============================] - 0s 4ms/step - loss: 0.0884 - accuracy: 0.9783\n",
      "Epoch 62/100\n",
      "29/29 [==============================] - 0s 4ms/step - loss: 0.0882 - accuracy: 0.9789\n",
      "Epoch 63/100\n",
      "29/29 [==============================] - 0s 3ms/step - loss: 0.0867 - accuracy: 0.9772\n",
      "Epoch 64/100\n",
      "29/29 [==============================] - 0s 3ms/step - loss: 0.0846 - accuracy: 0.9811\n",
      "Epoch 65/100\n",
      "29/29 [==============================] - 0s 3ms/step - loss: 0.0819 - accuracy: 0.9778\n",
      "Epoch 66/100\n",
      "29/29 [==============================] - 0s 3ms/step - loss: 0.0809 - accuracy: 0.9811\n",
      "Epoch 67/100\n",
      "29/29 [==============================] - 0s 2ms/step - loss: 0.0787 - accuracy: 0.9833\n",
      "Epoch 68/100\n",
      "29/29 [==============================] - 0s 3ms/step - loss: 0.0775 - accuracy: 0.9800\n",
      "Epoch 69/100\n",
      "29/29 [==============================] - 0s 4ms/step - loss: 0.0760 - accuracy: 0.9833\n",
      "Epoch 70/100\n",
      "29/29 [==============================] - 0s 4ms/step - loss: 0.0744 - accuracy: 0.9833\n",
      "Epoch 71/100\n",
      "29/29 [==============================] - 0s 4ms/step - loss: 0.0736 - accuracy: 0.9806\n",
      "Epoch 72/100\n",
      "29/29 [==============================] - 0s 5ms/step - loss: 0.0722 - accuracy: 0.9850\n",
      "Epoch 73/100\n",
      "29/29 [==============================] - 0s 5ms/step - loss: 0.0736 - accuracy: 0.9839\n",
      "Epoch 74/100\n",
      "29/29 [==============================] - 0s 3ms/step - loss: 0.0699 - accuracy: 0.9861\n",
      "Epoch 75/100\n",
      "29/29 [==============================] - 0s 3ms/step - loss: 0.0683 - accuracy: 0.9878\n",
      "Epoch 76/100\n",
      "29/29 [==============================] - 0s 3ms/step - loss: 0.0673 - accuracy: 0.9867\n",
      "Epoch 77/100\n",
      "29/29 [==============================] - 0s 5ms/step - loss: 0.0660 - accuracy: 0.9878\n",
      "Epoch 78/100\n",
      "29/29 [==============================] - 0s 3ms/step - loss: 0.0651 - accuracy: 0.9878\n",
      "Epoch 79/100\n",
      "29/29 [==============================] - 0s 4ms/step - loss: 0.0646 - accuracy: 0.9883\n",
      "Epoch 80/100\n",
      "29/29 [==============================] - 0s 5ms/step - loss: 0.0632 - accuracy: 0.9894\n",
      "Epoch 81/100\n",
      "29/29 [==============================] - 0s 3ms/step - loss: 0.0617 - accuracy: 0.9872\n",
      "Epoch 82/100\n",
      "29/29 [==============================] - 0s 3ms/step - loss: 0.0608 - accuracy: 0.9889\n",
      "Epoch 83/100\n"
     ]
    },
    {
     "name": "stdout",
     "output_type": "stream",
     "text": [
      "29/29 [==============================] - 0s 3ms/step - loss: 0.0604 - accuracy: 0.9889\n",
      "Epoch 84/100\n",
      "29/29 [==============================] - 0s 3ms/step - loss: 0.0609 - accuracy: 0.9872\n",
      "Epoch 85/100\n",
      "29/29 [==============================] - 0s 3ms/step - loss: 0.0590 - accuracy: 0.9894\n",
      "Epoch 86/100\n",
      "29/29 [==============================] - 0s 3ms/step - loss: 0.0575 - accuracy: 0.9906\n",
      "Epoch 87/100\n",
      "29/29 [==============================] - 0s 3ms/step - loss: 0.0572 - accuracy: 0.9861\n",
      "Epoch 88/100\n",
      "29/29 [==============================] - 0s 3ms/step - loss: 0.0553 - accuracy: 0.9900\n",
      "Epoch 89/100\n",
      "29/29 [==============================] - 0s 2ms/step - loss: 0.0546 - accuracy: 0.9906\n",
      "Epoch 90/100\n",
      "29/29 [==============================] - 0s 3ms/step - loss: 0.0544 - accuracy: 0.9889\n",
      "Epoch 91/100\n",
      "29/29 [==============================] - 0s 3ms/step - loss: 0.0539 - accuracy: 0.9900\n",
      "Epoch 92/100\n",
      "29/29 [==============================] - 0s 3ms/step - loss: 0.0530 - accuracy: 0.9906\n",
      "Epoch 93/100\n",
      "29/29 [==============================] - 0s 6ms/step - loss: 0.0519 - accuracy: 0.9917\n",
      "Epoch 94/100\n",
      "29/29 [==============================] - 0s 3ms/step - loss: 0.0532 - accuracy: 0.9878\n",
      "Epoch 95/100\n",
      "29/29 [==============================] - 0s 2ms/step - loss: 0.0511 - accuracy: 0.9900\n",
      "Epoch 96/100\n",
      "29/29 [==============================] - 0s 3ms/step - loss: 0.0504 - accuracy: 0.9906\n",
      "Epoch 97/100\n",
      "29/29 [==============================] - 0s 3ms/step - loss: 0.0497 - accuracy: 0.9883\n",
      "Epoch 98/100\n",
      "29/29 [==============================] - 0s 3ms/step - loss: 0.0475 - accuracy: 0.9917\n",
      "Epoch 99/100\n",
      "29/29 [==============================] - 0s 1ms/step - loss: 0.0463 - accuracy: 0.9917\n",
      "Epoch 100/100\n",
      "29/29 [==============================] - 0s 3ms/step - loss: 0.0462 - accuracy: 0.9928\n"
     ]
    }
   ],
   "source": [
    "# Training\n",
    "history = model.fit(features_train, price_range_train, epochs=100, batch_size=64)"
   ]
  },
  {
   "cell_type": "code",
   "execution_count": 13,
   "metadata": {},
   "outputs": [],
   "source": [
    "# Checking performance of model on test data\n",
    "price_range_prediction = model.predict(features_test)\n",
    "prediction = list()\n",
    "\n",
    "for i in range(len(price_range_prediction)):\n",
    "    prediction.append(np.argmax(price_range_prediction[i]))\n",
    "\n",
    "    test = list()\n",
    "for i in range(len(price_range_test)):\n",
    "    test.append(np.argmax(price_range_test[i]))"
   ]
  },
  {
   "cell_type": "code",
   "execution_count": 14,
   "metadata": {},
   "outputs": [
    {
     "name": "stdout",
     "output_type": "stream",
     "text": [
      "Accuracy is: 93.0\n"
     ]
    }
   ],
   "source": [
    "a = accuracy_score(prediction,test)\n",
    "print('Accuracy is:', a*100)"
   ]
  },
  {
   "cell_type": "code",
   "execution_count": null,
   "metadata": {},
   "outputs": [],
   "source": []
  }
 ],
 "metadata": {
  "kernelspec": {
   "display_name": "Python 3",
   "language": "python",
   "name": "python3"
  },
  "language_info": {
   "codemirror_mode": {
    "name": "ipython",
    "version": 3
   },
   "file_extension": ".py",
   "mimetype": "text/x-python",
   "name": "python",
   "nbconvert_exporter": "python",
   "pygments_lexer": "ipython3",
   "version": "3.8.5"
  }
 },
 "nbformat": 4,
 "nbformat_minor": 4
}
