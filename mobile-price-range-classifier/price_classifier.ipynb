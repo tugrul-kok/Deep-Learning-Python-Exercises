{
 "cells": [
  {
   "cell_type": "code",
   "execution_count": 1,
   "metadata": {},
   "outputs": [],
   "source": [
    "import numpy as np\n",
    "import pandas as pd\n",
    "\n",
    "# For data preprocessing\n",
    "from sklearn.preprocessing import StandardScaler, OneHotEncoder\n",
    "from sklearn.model_selection import train_test_split\n",
    "\n",
    "# For neural network\n",
    "import keras\n",
    "from keras.models import Sequential\n",
    "from keras.layers import Dense\n",
    "\n",
    "# For testing\n",
    "from sklearn.metrics import accuracy_score\n",
    "\n",
    "# To visualize the training process\n",
    "import matplotlib.pyplot as plt"
   ]
  },
  {
   "cell_type": "code",
   "execution_count": 2,
   "metadata": {
    "scrolled": true
   },
   "outputs": [],
   "source": [
    "# Data is imported, downloaded from https://www.kaggle.com/iabhishekofficial/mobile-price-classification\n",
    "data = pd.read_csv('train.csv')\n",
    "#data.head(10)"
   ]
  },
  {
   "cell_type": "code",
   "execution_count": 3,
   "metadata": {
    "scrolled": true
   },
   "outputs": [],
   "source": [
    "# Changing data into array.\n",
    "features = data.iloc[:,:20].values\n",
    "price_range = data.iloc[:,20:21].values"
   ]
  },
  {
   "cell_type": "code",
   "execution_count": 4,
   "metadata": {},
   "outputs": [],
   "source": [
    "# Normalization\n",
    "sc = StandardScaler()\n",
    "features = sc.fit_transform(features)"
   ]
  },
  {
   "cell_type": "code",
   "execution_count": 5,
   "metadata": {},
   "outputs": [],
   "source": [
    "# One hot encoding\n",
    "ohe = OneHotEncoder()\n",
    "price_range = ohe.fit_transform(price_range).toarray()"
   ]
  },
  {
   "cell_type": "code",
   "execution_count": 6,
   "metadata": {},
   "outputs": [],
   "source": [
    "# Splitting data into test and train. 90% test, 10% train\n",
    "features_train, features_test, price_range_train, price_range_test = train_test_split(features, price_range,test_size = 0.1)"
   ]
  },
  {
   "cell_type": "code",
   "execution_count": 7,
   "metadata": {},
   "outputs": [],
   "source": [
    "# Model is created\n",
    "model = Sequential()\n",
    "model.add(Dense(16, input_dim=20, activation= 'relu'))\n",
    "model.add(Dense(12, activation='relu'))\n",
    "model.add(Dense(4, activation='softmax'))"
   ]
  },
  {
   "cell_type": "code",
   "execution_count": 8,
   "metadata": {},
   "outputs": [],
   "source": [
    "# The loss function\n",
    "model.compile(loss='categorical_crossentropy', optimizer='adam', metrics=['accuracy'])"
   ]
  },
  {
   "cell_type": "code",
   "execution_count": 9,
   "metadata": {
    "scrolled": true
   },
   "outputs": [
    {
     "name": "stdout",
     "output_type": "stream",
     "text": [
      "Epoch 1/100\n",
      "29/29 [==============================] - 0s 14ms/step - loss: 1.5611 - accuracy: 0.2167 - val_loss: 1.4974 - val_accuracy: 0.2000\n",
      "Epoch 2/100\n",
      "29/29 [==============================] - 0s 5ms/step - loss: 1.4471 - accuracy: 0.2428 - val_loss: 1.4240 - val_accuracy: 0.2500\n",
      "Epoch 3/100\n",
      "29/29 [==============================] - 0s 6ms/step - loss: 1.3963 - accuracy: 0.2733 - val_loss: 1.3772 - val_accuracy: 0.2700\n",
      "Epoch 4/100\n",
      "29/29 [==============================] - 0s 5ms/step - loss: 1.3622 - accuracy: 0.3072 - val_loss: 1.3409 - val_accuracy: 0.3250\n",
      "Epoch 5/100\n",
      "29/29 [==============================] - 0s 7ms/step - loss: 1.3298 - accuracy: 0.3433 - val_loss: 1.3009 - val_accuracy: 0.3750\n",
      "Epoch 6/100\n",
      "29/29 [==============================] - 0s 5ms/step - loss: 1.2934 - accuracy: 0.3717 - val_loss: 1.2542 - val_accuracy: 0.4050\n",
      "Epoch 7/100\n",
      "29/29 [==============================] - 0s 7ms/step - loss: 1.2465 - accuracy: 0.4300 - val_loss: 1.1964 - val_accuracy: 0.5000\n",
      "Epoch 8/100\n",
      "29/29 [==============================] - 0s 6ms/step - loss: 1.1878 - accuracy: 0.4972 - val_loss: 1.1229 - val_accuracy: 0.5250\n",
      "Epoch 9/100\n",
      "29/29 [==============================] - 0s 6ms/step - loss: 1.1159 - accuracy: 0.5372 - val_loss: 1.0395 - val_accuracy: 0.5500\n",
      "Epoch 10/100\n",
      "29/29 [==============================] - 0s 7ms/step - loss: 1.0339 - accuracy: 0.5756 - val_loss: 0.9553 - val_accuracy: 0.5950\n",
      "Epoch 11/100\n",
      "29/29 [==============================] - 0s 5ms/step - loss: 0.9485 - accuracy: 0.6122 - val_loss: 0.8689 - val_accuracy: 0.6450\n",
      "Epoch 12/100\n",
      "29/29 [==============================] - 0s 5ms/step - loss: 0.8661 - accuracy: 0.6383 - val_loss: 0.7920 - val_accuracy: 0.6650\n",
      "Epoch 13/100\n",
      "29/29 [==============================] - 0s 5ms/step - loss: 0.7912 - accuracy: 0.6628 - val_loss: 0.7224 - val_accuracy: 0.7200\n",
      "Epoch 14/100\n",
      "29/29 [==============================] - 0s 4ms/step - loss: 0.7231 - accuracy: 0.7044 - val_loss: 0.6642 - val_accuracy: 0.7550\n",
      "Epoch 15/100\n",
      "29/29 [==============================] - 0s 4ms/step - loss: 0.6620 - accuracy: 0.7378 - val_loss: 0.6142 - val_accuracy: 0.7900\n",
      "Epoch 16/100\n",
      "29/29 [==============================] - 0s 5ms/step - loss: 0.6068 - accuracy: 0.7867 - val_loss: 0.5689 - val_accuracy: 0.8200\n",
      "Epoch 17/100\n",
      "29/29 [==============================] - 0s 5ms/step - loss: 0.5570 - accuracy: 0.8150 - val_loss: 0.5257 - val_accuracy: 0.8600\n",
      "Epoch 18/100\n",
      "29/29 [==============================] - 0s 5ms/step - loss: 0.5131 - accuracy: 0.8367 - val_loss: 0.4870 - val_accuracy: 0.8750\n",
      "Epoch 19/100\n",
      "29/29 [==============================] - 0s 5ms/step - loss: 0.4735 - accuracy: 0.8578 - val_loss: 0.4508 - val_accuracy: 0.8800\n",
      "Epoch 20/100\n",
      "29/29 [==============================] - 0s 5ms/step - loss: 0.4386 - accuracy: 0.8783 - val_loss: 0.4200 - val_accuracy: 0.8900\n",
      "Epoch 21/100\n",
      "29/29 [==============================] - 0s 5ms/step - loss: 0.4068 - accuracy: 0.8778 - val_loss: 0.3901 - val_accuracy: 0.9100\n",
      "Epoch 22/100\n",
      "29/29 [==============================] - 0s 6ms/step - loss: 0.3777 - accuracy: 0.8967 - val_loss: 0.3643 - val_accuracy: 0.9000\n",
      "Epoch 23/100\n",
      "29/29 [==============================] - 0s 6ms/step - loss: 0.3505 - accuracy: 0.9089 - val_loss: 0.3470 - val_accuracy: 0.8900\n",
      "Epoch 24/100\n",
      "29/29 [==============================] - 0s 6ms/step - loss: 0.3276 - accuracy: 0.9100 - val_loss: 0.3262 - val_accuracy: 0.9000\n",
      "Epoch 25/100\n",
      "29/29 [==============================] - 0s 5ms/step - loss: 0.3063 - accuracy: 0.9194 - val_loss: 0.3099 - val_accuracy: 0.9050\n",
      "Epoch 26/100\n",
      "29/29 [==============================] - 0s 5ms/step - loss: 0.2871 - accuracy: 0.9261 - val_loss: 0.2940 - val_accuracy: 0.9100\n",
      "Epoch 27/100\n",
      "29/29 [==============================] - 0s 6ms/step - loss: 0.2705 - accuracy: 0.9272 - val_loss: 0.2789 - val_accuracy: 0.9200\n",
      "Epoch 28/100\n",
      "29/29 [==============================] - 0s 5ms/step - loss: 0.2550 - accuracy: 0.9350 - val_loss: 0.2667 - val_accuracy: 0.9200\n",
      "Epoch 29/100\n",
      "29/29 [==============================] - 0s 5ms/step - loss: 0.2417 - accuracy: 0.9344 - val_loss: 0.2564 - val_accuracy: 0.9200\n",
      "Epoch 30/100\n",
      "29/29 [==============================] - 0s 6ms/step - loss: 0.2295 - accuracy: 0.9394 - val_loss: 0.2465 - val_accuracy: 0.9100\n",
      "Epoch 31/100\n",
      "29/29 [==============================] - 0s 6ms/step - loss: 0.2186 - accuracy: 0.9389 - val_loss: 0.2367 - val_accuracy: 0.9100\n",
      "Epoch 32/100\n",
      "29/29 [==============================] - 0s 5ms/step - loss: 0.2061 - accuracy: 0.9444 - val_loss: 0.2257 - val_accuracy: 0.9250\n",
      "Epoch 33/100\n",
      "29/29 [==============================] - 0s 5ms/step - loss: 0.1971 - accuracy: 0.9550 - val_loss: 0.2166 - val_accuracy: 0.9350\n",
      "Epoch 34/100\n",
      "29/29 [==============================] - 0s 5ms/step - loss: 0.1879 - accuracy: 0.9539 - val_loss: 0.2085 - val_accuracy: 0.9350\n",
      "Epoch 35/100\n",
      "29/29 [==============================] - 0s 6ms/step - loss: 0.1801 - accuracy: 0.9572 - val_loss: 0.2021 - val_accuracy: 0.9350\n",
      "Epoch 36/100\n",
      "29/29 [==============================] - 0s 8ms/step - loss: 0.1737 - accuracy: 0.9589 - val_loss: 0.1962 - val_accuracy: 0.9400\n",
      "Epoch 37/100\n",
      "29/29 [==============================] - 0s 5ms/step - loss: 0.1663 - accuracy: 0.9594 - val_loss: 0.1921 - val_accuracy: 0.9400\n",
      "Epoch 38/100\n",
      "29/29 [==============================] - 0s 6ms/step - loss: 0.1594 - accuracy: 0.9656 - val_loss: 0.1859 - val_accuracy: 0.9500\n",
      "Epoch 39/100\n",
      "29/29 [==============================] - 0s 7ms/step - loss: 0.1542 - accuracy: 0.9622 - val_loss: 0.1814 - val_accuracy: 0.9500\n",
      "Epoch 40/100\n",
      "29/29 [==============================] - 0s 8ms/step - loss: 0.1493 - accuracy: 0.9633 - val_loss: 0.1790 - val_accuracy: 0.9450\n",
      "Epoch 41/100\n",
      "29/29 [==============================] - 0s 7ms/step - loss: 0.1438 - accuracy: 0.9694 - val_loss: 0.1764 - val_accuracy: 0.9400\n",
      "Epoch 42/100\n",
      "29/29 [==============================] - 0s 7ms/step - loss: 0.1399 - accuracy: 0.9656 - val_loss: 0.1737 - val_accuracy: 0.9500\n",
      "Epoch 43/100\n",
      "29/29 [==============================] - 0s 7ms/step - loss: 0.1346 - accuracy: 0.9689 - val_loss: 0.1659 - val_accuracy: 0.9500\n",
      "Epoch 44/100\n",
      "29/29 [==============================] - 0s 5ms/step - loss: 0.1304 - accuracy: 0.9717 - val_loss: 0.1675 - val_accuracy: 0.9500\n",
      "Epoch 45/100\n",
      "29/29 [==============================] - 0s 7ms/step - loss: 0.1284 - accuracy: 0.9678 - val_loss: 0.1595 - val_accuracy: 0.9550\n",
      "Epoch 46/100\n",
      "29/29 [==============================] - 0s 4ms/step - loss: 0.1230 - accuracy: 0.9744 - val_loss: 0.1586 - val_accuracy: 0.9500\n",
      "Epoch 47/100\n",
      "29/29 [==============================] - 0s 7ms/step - loss: 0.1211 - accuracy: 0.9739 - val_loss: 0.1552 - val_accuracy: 0.9500\n",
      "Epoch 48/100\n",
      "29/29 [==============================] - 0s 9ms/step - loss: 0.1171 - accuracy: 0.9761 - val_loss: 0.1531 - val_accuracy: 0.9450\n",
      "Epoch 49/100\n",
      "29/29 [==============================] - 0s 7ms/step - loss: 0.1143 - accuracy: 0.9728 - val_loss: 0.1545 - val_accuracy: 0.9450\n",
      "Epoch 50/100\n",
      "29/29 [==============================] - 0s 7ms/step - loss: 0.1105 - accuracy: 0.9761 - val_loss: 0.1483 - val_accuracy: 0.9500\n",
      "Epoch 51/100\n",
      "29/29 [==============================] - 0s 7ms/step - loss: 0.1079 - accuracy: 0.9789 - val_loss: 0.1510 - val_accuracy: 0.9500\n",
      "Epoch 52/100\n",
      "29/29 [==============================] - 0s 8ms/step - loss: 0.1069 - accuracy: 0.9767 - val_loss: 0.1500 - val_accuracy: 0.9550\n",
      "Epoch 53/100\n",
      "29/29 [==============================] - 0s 6ms/step - loss: 0.1036 - accuracy: 0.9794 - val_loss: 0.1432 - val_accuracy: 0.9500\n",
      "Epoch 54/100\n",
      "29/29 [==============================] - 0s 7ms/step - loss: 0.1008 - accuracy: 0.9794 - val_loss: 0.1469 - val_accuracy: 0.9400\n",
      "Epoch 55/100\n",
      "29/29 [==============================] - 0s 6ms/step - loss: 0.1004 - accuracy: 0.9783 - val_loss: 0.1458 - val_accuracy: 0.9400\n",
      "Epoch 56/100\n",
      "29/29 [==============================] - 0s 6ms/step - loss: 0.0968 - accuracy: 0.9778 - val_loss: 0.1437 - val_accuracy: 0.9500\n",
      "Epoch 57/100\n",
      "29/29 [==============================] - 0s 6ms/step - loss: 0.0962 - accuracy: 0.9761 - val_loss: 0.1445 - val_accuracy: 0.9450\n",
      "Epoch 58/100\n",
      "29/29 [==============================] - 0s 6ms/step - loss: 0.0930 - accuracy: 0.9783 - val_loss: 0.1397 - val_accuracy: 0.9500\n"
     ]
    },
    {
     "name": "stdout",
     "output_type": "stream",
     "text": [
      "Epoch 59/100\n",
      "29/29 [==============================] - 0s 7ms/step - loss: 0.0913 - accuracy: 0.9789 - val_loss: 0.1419 - val_accuracy: 0.9450\n",
      "Epoch 60/100\n",
      "29/29 [==============================] - 0s 4ms/step - loss: 0.0902 - accuracy: 0.9800 - val_loss: 0.1401 - val_accuracy: 0.9500\n",
      "Epoch 61/100\n",
      "29/29 [==============================] - 0s 6ms/step - loss: 0.0887 - accuracy: 0.9806 - val_loss: 0.1396 - val_accuracy: 0.9400\n",
      "Epoch 62/100\n",
      "29/29 [==============================] - 0s 5ms/step - loss: 0.0866 - accuracy: 0.9817 - val_loss: 0.1396 - val_accuracy: 0.9550\n",
      "Epoch 63/100\n",
      "29/29 [==============================] - 0s 5ms/step - loss: 0.0844 - accuracy: 0.9817 - val_loss: 0.1349 - val_accuracy: 0.9600\n",
      "Epoch 64/100\n",
      "29/29 [==============================] - 0s 4ms/step - loss: 0.0821 - accuracy: 0.9828 - val_loss: 0.1326 - val_accuracy: 0.9600\n",
      "Epoch 65/100\n",
      "29/29 [==============================] - 0s 5ms/step - loss: 0.0802 - accuracy: 0.9822 - val_loss: 0.1312 - val_accuracy: 0.9600\n",
      "Epoch 66/100\n",
      "29/29 [==============================] - 0s 5ms/step - loss: 0.0798 - accuracy: 0.9817 - val_loss: 0.1314 - val_accuracy: 0.9550\n",
      "Epoch 67/100\n",
      "29/29 [==============================] - 0s 5ms/step - loss: 0.0786 - accuracy: 0.9811 - val_loss: 0.1290 - val_accuracy: 0.9600\n",
      "Epoch 68/100\n",
      "29/29 [==============================] - 0s 5ms/step - loss: 0.0765 - accuracy: 0.9817 - val_loss: 0.1306 - val_accuracy: 0.9550\n",
      "Epoch 69/100\n",
      "29/29 [==============================] - 0s 4ms/step - loss: 0.0747 - accuracy: 0.9839 - val_loss: 0.1305 - val_accuracy: 0.9550\n",
      "Epoch 70/100\n",
      "29/29 [==============================] - 0s 6ms/step - loss: 0.0739 - accuracy: 0.9833 - val_loss: 0.1286 - val_accuracy: 0.9550\n",
      "Epoch 71/100\n",
      "29/29 [==============================] - 0s 7ms/step - loss: 0.0735 - accuracy: 0.9839 - val_loss: 0.1300 - val_accuracy: 0.9600\n",
      "Epoch 72/100\n",
      "29/29 [==============================] - 0s 6ms/step - loss: 0.0716 - accuracy: 0.9839 - val_loss: 0.1248 - val_accuracy: 0.9600\n",
      "Epoch 73/100\n",
      "29/29 [==============================] - 0s 5ms/step - loss: 0.0705 - accuracy: 0.9833 - val_loss: 0.1264 - val_accuracy: 0.9550\n",
      "Epoch 74/100\n",
      "29/29 [==============================] - 0s 5ms/step - loss: 0.0687 - accuracy: 0.9861 - val_loss: 0.1246 - val_accuracy: 0.9550\n",
      "Epoch 75/100\n",
      "29/29 [==============================] - 0s 5ms/step - loss: 0.0691 - accuracy: 0.9833 - val_loss: 0.1272 - val_accuracy: 0.9500\n",
      "Epoch 76/100\n",
      "29/29 [==============================] - 0s 6ms/step - loss: 0.0668 - accuracy: 0.9878 - val_loss: 0.1235 - val_accuracy: 0.9550\n",
      "Epoch 77/100\n",
      "29/29 [==============================] - 0s 7ms/step - loss: 0.0664 - accuracy: 0.9833 - val_loss: 0.1269 - val_accuracy: 0.9450\n",
      "Epoch 78/100\n",
      "29/29 [==============================] - 0s 6ms/step - loss: 0.0652 - accuracy: 0.9856 - val_loss: 0.1240 - val_accuracy: 0.9550\n",
      "Epoch 79/100\n",
      "29/29 [==============================] - 0s 6ms/step - loss: 0.0644 - accuracy: 0.9839 - val_loss: 0.1234 - val_accuracy: 0.9550\n",
      "Epoch 80/100\n",
      "29/29 [==============================] - 0s 5ms/step - loss: 0.0628 - accuracy: 0.9872 - val_loss: 0.1244 - val_accuracy: 0.9500\n",
      "Epoch 81/100\n",
      "29/29 [==============================] - 0s 6ms/step - loss: 0.0624 - accuracy: 0.9861 - val_loss: 0.1272 - val_accuracy: 0.9450\n",
      "Epoch 82/100\n",
      "29/29 [==============================] - 0s 6ms/step - loss: 0.0620 - accuracy: 0.9856 - val_loss: 0.1238 - val_accuracy: 0.9500\n",
      "Epoch 83/100\n",
      "29/29 [==============================] - 0s 7ms/step - loss: 0.0612 - accuracy: 0.9867 - val_loss: 0.1278 - val_accuracy: 0.9500\n",
      "Epoch 84/100\n",
      "29/29 [==============================] - 0s 6ms/step - loss: 0.0596 - accuracy: 0.9850 - val_loss: 0.1248 - val_accuracy: 0.9500\n",
      "Epoch 85/100\n",
      "29/29 [==============================] - 0s 6ms/step - loss: 0.0592 - accuracy: 0.9861 - val_loss: 0.1273 - val_accuracy: 0.9500\n",
      "Epoch 86/100\n",
      "29/29 [==============================] - 0s 7ms/step - loss: 0.0576 - accuracy: 0.9872 - val_loss: 0.1251 - val_accuracy: 0.9500\n",
      "Epoch 87/100\n",
      "29/29 [==============================] - 0s 8ms/step - loss: 0.0564 - accuracy: 0.9872 - val_loss: 0.1280 - val_accuracy: 0.9500\n",
      "Epoch 88/100\n",
      "29/29 [==============================] - 0s 8ms/step - loss: 0.0555 - accuracy: 0.9872 - val_loss: 0.1246 - val_accuracy: 0.9500\n",
      "Epoch 89/100\n",
      "29/29 [==============================] - 0s 6ms/step - loss: 0.0559 - accuracy: 0.9894 - val_loss: 0.1270 - val_accuracy: 0.9450\n",
      "Epoch 90/100\n",
      "29/29 [==============================] - 0s 5ms/step - loss: 0.0554 - accuracy: 0.9894 - val_loss: 0.1243 - val_accuracy: 0.9500\n",
      "Epoch 91/100\n",
      "29/29 [==============================] - 0s 5ms/step - loss: 0.0549 - accuracy: 0.9889 - val_loss: 0.1314 - val_accuracy: 0.9450\n",
      "Epoch 92/100\n",
      "29/29 [==============================] - 0s 5ms/step - loss: 0.0539 - accuracy: 0.9861 - val_loss: 0.1276 - val_accuracy: 0.9450\n",
      "Epoch 93/100\n",
      "29/29 [==============================] - 0s 8ms/step - loss: 0.0529 - accuracy: 0.9872 - val_loss: 0.1254 - val_accuracy: 0.9500\n",
      "Epoch 94/100\n",
      "29/29 [==============================] - 0s 7ms/step - loss: 0.0513 - accuracy: 0.9917 - val_loss: 0.1264 - val_accuracy: 0.9450\n",
      "Epoch 95/100\n",
      "29/29 [==============================] - 0s 11ms/step - loss: 0.0530 - accuracy: 0.9883 - val_loss: 0.1313 - val_accuracy: 0.9500\n",
      "Epoch 96/100\n",
      "29/29 [==============================] - 0s 5ms/step - loss: 0.0520 - accuracy: 0.9906 - val_loss: 0.1315 - val_accuracy: 0.9450\n",
      "Epoch 97/100\n",
      "29/29 [==============================] - 0s 9ms/step - loss: 0.0505 - accuracy: 0.9906 - val_loss: 0.1278 - val_accuracy: 0.9450\n",
      "Epoch 98/100\n",
      "29/29 [==============================] - 0s 7ms/step - loss: 0.0488 - accuracy: 0.9883 - val_loss: 0.1258 - val_accuracy: 0.9500\n",
      "Epoch 99/100\n",
      "29/29 [==============================] - 0s 5ms/step - loss: 0.0480 - accuracy: 0.9894 - val_loss: 0.1266 - val_accuracy: 0.9500\n",
      "Epoch 100/100\n",
      "29/29 [==============================] - 0s 5ms/step - loss: 0.0481 - accuracy: 0.9917 - val_loss: 0.1267 - val_accuracy: 0.9500\n"
     ]
    }
   ],
   "source": [
    "# Training\n",
    "history = model.fit(features_train, price_range_train, validation_data = (features_test, price_range_test), epochs=100, batch_size=64)"
   ]
  },
  {
   "cell_type": "code",
   "execution_count": 10,
   "metadata": {},
   "outputs": [],
   "source": [
    "# Checking performance of model on test data\n",
    "price_range_prediction = model.predict(features_test)\n",
    "prediction = list()\n",
    "\n",
    "for i in range(len(price_range_prediction)):\n",
    "    prediction.append(np.argmax(price_range_prediction[i]))\n",
    "\n",
    "    test = list()\n",
    "for i in range(len(price_range_test)):\n",
    "    test.append(np.argmax(price_range_test[i]))"
   ]
  },
  {
   "cell_type": "code",
   "execution_count": 11,
   "metadata": {
    "scrolled": false
   },
   "outputs": [
    {
     "name": "stdout",
     "output_type": "stream",
     "text": [
      "Accuracy is: 95.0\n"
     ]
    }
   ],
   "source": [
    "a = accuracy_score(prediction,test)\n",
    "print('Accuracy is:', a*100)"
   ]
  },
  {
   "cell_type": "code",
   "execution_count": 13,
   "metadata": {},
   "outputs": [
    {
     "data": {
      "image/png": "[encoded data removed]",
      "text/plain": [
       "<Figure size 432x288 with 1 Axes>"
      ]
     },
     "metadata": {
      "needs_background": "light"
     },
     "output_type": "display_data"
    }
   ],
   "source": [
    "plt.plot(history.history['accuracy'])\n",
    "plt.plot(history.history['val_accuracy'])\n",
    "plt.title('Model accuracy')\n",
    "plt.ylabel('Accuracy')\n",
    "plt.xlabel('Epoch')\n",
    "plt.legend(['Train', 'Test'], loc='upper left')\n",
    "plt.show()"
   ]
  },
  {
   "cell_type": "code",
   "execution_count": null,
   "metadata": {},
   "outputs": [],
   "source": []
  }
 ],
 "metadata": {
  "kernelspec": {
   "display_name": "Python 3",
   "language": "python",
   "name": "python3"
  },
  "language_info": {
   "codemirror_mode": {
    "name": "ipython",
    "version": 3
   },
   "file_extension": ".py",
   "mimetype": "text/x-python",
   "name": "python",
   "nbconvert_exporter": "python",
   "pygments_lexer": "ipython3",
   "version": "3.8.5"
  }
 },
 "nbformat": 4,
 "nbformat_minor": 4
}
